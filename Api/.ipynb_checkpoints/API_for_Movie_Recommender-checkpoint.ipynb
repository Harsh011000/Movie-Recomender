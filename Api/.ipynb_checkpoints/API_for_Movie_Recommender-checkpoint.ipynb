{
  "nbformat": 4,
  "nbformat_minor": 0,
  "metadata": {
    "colab": {
      "provenance": [],
      "gpuType": "T4"
    },
    "kernelspec": {
      "name": "python3",
      "display_name": "Python 3"
    },
    "language_info": {
      "name": "python"
    },
    "accelerator": "GPU"
  },
  "cells": [
    {
      "cell_type": "code",
      "execution_count": 1,
      "metadata": {
        "colab": {
          "base_uri": "https://localhost:8080/"
        },
        "id": "_og5_AtL9T_o",
        "outputId": "1295f201-30e6-425e-ade3-1ffb6105d690"
      },
      "outputs": [
        {
          "output_type": "stream",
          "name": "stdout",
          "text": [
            "Collecting flask-ngrok\n",
            "  Downloading flask_ngrok-0.0.25-py3-none-any.whl.metadata (1.8 kB)\n",
            "Requirement already satisfied: Flask>=0.8 in /usr/local/lib/python3.10/dist-packages (from flask-ngrok) (3.1.0)\n",
            "Requirement already satisfied: requests in /usr/local/lib/python3.10/dist-packages (from flask-ngrok) (2.32.3)\n",
            "Requirement already satisfied: Werkzeug>=3.1 in /usr/local/lib/python3.10/dist-packages (from Flask>=0.8->flask-ngrok) (3.1.3)\n",
            "Requirement already satisfied: Jinja2>=3.1.2 in /usr/local/lib/python3.10/dist-packages (from Flask>=0.8->flask-ngrok) (3.1.5)\n",
            "Requirement already satisfied: itsdangerous>=2.2 in /usr/local/lib/python3.10/dist-packages (from Flask>=0.8->flask-ngrok) (2.2.0)\n",
            "Requirement already satisfied: click>=8.1.3 in /usr/local/lib/python3.10/dist-packages (from Flask>=0.8->flask-ngrok) (8.1.8)\n",
            "Requirement already satisfied: blinker>=1.9 in /usr/local/lib/python3.10/dist-packages (from Flask>=0.8->flask-ngrok) (1.9.0)\n",
            "Requirement already satisfied: charset-normalizer<4,>=2 in /usr/local/lib/python3.10/dist-packages (from requests->flask-ngrok) (3.4.1)\n",
            "Requirement already satisfied: idna<4,>=2.5 in /usr/local/lib/python3.10/dist-packages (from requests->flask-ngrok) (3.10)\n",
            "Requirement already satisfied: urllib3<3,>=1.21.1 in /usr/local/lib/python3.10/dist-packages (from requests->flask-ngrok) (2.3.0)\n",
            "Requirement already satisfied: certifi>=2017.4.17 in /usr/local/lib/python3.10/dist-packages (from requests->flask-ngrok) (2024.12.14)\n",
            "Requirement already satisfied: MarkupSafe>=2.0 in /usr/local/lib/python3.10/dist-packages (from Jinja2>=3.1.2->Flask>=0.8->flask-ngrok) (3.0.2)\n",
            "Downloading flask_ngrok-0.0.25-py3-none-any.whl (3.1 kB)\n",
            "Installing collected packages: flask-ngrok\n",
            "Successfully installed flask-ngrok-0.0.25\n"
          ]
        }
      ],
      "source": [
        "!pip install flask-ngrok"
      ]
    },
    {
      "cell_type": "code",
      "source": [
        "import os\n",
        "\n",
        "import tensorflow as tf\n",
        "from tensorflow import keras\n",
        "\n",
        "print(tf.version.VERSION)"
      ],
      "metadata": {
        "colab": {
          "base_uri": "https://localhost:8080/"
        },
        "id": "TeymB-lE9aqz",
        "outputId": "d16dcdc9-c36a-431d-e898-2ea14e59d526"
      },
      "execution_count": 2,
      "outputs": [
        {
          "output_type": "stream",
          "name": "stdout",
          "text": [
            "2.17.1\n"
          ]
        }
      ]
    },
    {
      "cell_type": "code",
      "source": [
        "!pip install nest_asyncio pyngrok Flask werkzeug\n",
        "!pip install flask_cors"
      ],
      "metadata": {
        "colab": {
          "base_uri": "https://localhost:8080/"
        },
        "id": "Qt3fIqVS9ckF",
        "outputId": "c997f1b7-7535-4e89-afdd-683683afd2cd"
      },
      "execution_count": 3,
      "outputs": [
        {
          "output_type": "stream",
          "name": "stdout",
          "text": [
            "Requirement already satisfied: nest_asyncio in /usr/local/lib/python3.10/dist-packages (1.6.0)\n",
            "Collecting pyngrok\n",
            "  Downloading pyngrok-7.2.3-py3-none-any.whl.metadata (8.7 kB)\n",
            "Requirement already satisfied: Flask in /usr/local/lib/python3.10/dist-packages (3.1.0)\n",
            "Requirement already satisfied: werkzeug in /usr/local/lib/python3.10/dist-packages (3.1.3)\n",
            "Requirement already satisfied: PyYAML>=5.1 in /usr/local/lib/python3.10/dist-packages (from pyngrok) (6.0.2)\n",
            "Requirement already satisfied: Jinja2>=3.1.2 in /usr/local/lib/python3.10/dist-packages (from Flask) (3.1.5)\n",
            "Requirement already satisfied: itsdangerous>=2.2 in /usr/local/lib/python3.10/dist-packages (from Flask) (2.2.0)\n",
            "Requirement already satisfied: click>=8.1.3 in /usr/local/lib/python3.10/dist-packages (from Flask) (8.1.8)\n",
            "Requirement already satisfied: blinker>=1.9 in /usr/local/lib/python3.10/dist-packages (from Flask) (1.9.0)\n",
            "Requirement already satisfied: MarkupSafe>=2.1.1 in /usr/local/lib/python3.10/dist-packages (from werkzeug) (3.0.2)\n",
            "Downloading pyngrok-7.2.3-py3-none-any.whl (23 kB)\n",
            "Installing collected packages: pyngrok\n",
            "Successfully installed pyngrok-7.2.3\n",
            "Collecting flask_cors\n",
            "  Downloading Flask_Cors-5.0.0-py2.py3-none-any.whl.metadata (5.5 kB)\n",
            "Requirement already satisfied: Flask>=0.9 in /usr/local/lib/python3.10/dist-packages (from flask_cors) (3.1.0)\n",
            "Requirement already satisfied: Werkzeug>=3.1 in /usr/local/lib/python3.10/dist-packages (from Flask>=0.9->flask_cors) (3.1.3)\n",
            "Requirement already satisfied: Jinja2>=3.1.2 in /usr/local/lib/python3.10/dist-packages (from Flask>=0.9->flask_cors) (3.1.5)\n",
            "Requirement already satisfied: itsdangerous>=2.2 in /usr/local/lib/python3.10/dist-packages (from Flask>=0.9->flask_cors) (2.2.0)\n",
            "Requirement already satisfied: click>=8.1.3 in /usr/local/lib/python3.10/dist-packages (from Flask>=0.9->flask_cors) (8.1.8)\n",
            "Requirement already satisfied: blinker>=1.9 in /usr/local/lib/python3.10/dist-packages (from Flask>=0.9->flask_cors) (1.9.0)\n",
            "Requirement already satisfied: MarkupSafe>=2.0 in /usr/local/lib/python3.10/dist-packages (from Jinja2>=3.1.2->Flask>=0.9->flask_cors) (3.0.2)\n",
            "Downloading Flask_Cors-5.0.0-py2.py3-none-any.whl (14 kB)\n",
            "Installing collected packages: flask_cors\n",
            "Successfully installed flask_cors-5.0.0\n"
          ]
        }
      ]
    },
    {
      "cell_type": "code",
      "source": [
        "from pyngrok import ngrok\n",
        "\n",
        "# Replace 'YOUR_AUTHTOKEN' with your actual ngrok authtoken\n",
        "ngrok.set_auth_token('2jpFZIDm2XWMOjfZl6QGKciSAbY_3jo9X2RDhN9TaBgk97G94')"
      ],
      "metadata": {
        "colab": {
          "base_uri": "https://localhost:8080/"
        },
        "id": "0hbhtrEj9gG2",
        "outputId": "b1bd1c38-4381-4eb7-a0f9-c2bfcba4d4d7"
      },
      "execution_count": 4,
      "outputs": [
        {
          "output_type": "stream",
          "name": "stdout",
          "text": []
        }
      ]
    },
    {
      "cell_type": "code",
      "source": [
        "import nest_asyncio\n",
        "import os\n",
        "import numpy as np\n",
        "import pandas as pd\n",
        "import tensorflow as tf\n",
        "from joblib import load\n",
        "import keras\n",
        "from tensorflow.keras.layers import Layer\n",
        "from tensorflow.keras.preprocessing.image import load_img, img_to_array\n",
        "from flask import Flask, request, jsonify\n",
        "from flask_cors import CORS\n",
        "from werkzeug.serving import run_simple\n",
        "from pyngrok import ngrok\n",
        "from threading import Thread"
      ],
      "metadata": {
        "id": "GDNNWf4b93be"
      },
      "execution_count": 5,
      "outputs": []
    },
    {
      "cell_type": "code",
      "source": [
        "@keras.saving.register_keras_serializable(package=\"MyLayers\")\n",
        "class L2Normalization(Layer):\n",
        "    def call(self, inputs):\n",
        "        return tf.linalg.l2_normalize(inputs, axis=1)\n",
        "\n",
        "custom_objects = {\n",
        "    \"L2Normalization\": L2Normalization\n",
        "}"
      ],
      "metadata": {
        "id": "sVENzoPC97-y"
      },
      "execution_count": 6,
      "outputs": []
    },
    {
      "cell_type": "code",
      "source": [
        "model = tf.keras.models.load_model('my_model.keras',custom_objects=custom_objects)"
      ],
      "metadata": {
        "id": "qvMIGrKR-R5I"
      },
      "execution_count": 7,
      "outputs": []
    },
    {
      "cell_type": "code",
      "source": [
        "user_scaler=load('UserScaler.joblib')\n",
        "movie_scaler=load('MovieScaler.joblib')\n",
        "rating_scaler=load('MinMaxRatingScaler.joblib')"
      ],
      "metadata": {
        "colab": {
          "base_uri": "https://localhost:8080/"
        },
        "id": "wRruk07w-ffd",
        "outputId": "1866b3f4-1cb8-4a4b-f025-6c2b9ad343cc"
      },
      "execution_count": 8,
      "outputs": [
        {
          "output_type": "stream",
          "name": "stderr",
          "text": [
            "/usr/local/lib/python3.10/dist-packages/sklearn/base.py:380: InconsistentVersionWarning: Trying to unpickle estimator StandardScaler from version 1.5.1 when using version 1.6.0. This might lead to breaking code or invalid results. Use at your own risk. For more info please refer to:\n",
            "https://scikit-learn.org/stable/model_persistence.html#security-maintainability-limitations\n",
            "  warnings.warn(\n",
            "/usr/local/lib/python3.10/dist-packages/sklearn/base.py:380: InconsistentVersionWarning: Trying to unpickle estimator MinMaxScaler from version 1.5.1 when using version 1.6.0. This might lead to breaking code or invalid results. Use at your own risk. For more info please refer to:\n",
            "https://scikit-learn.org/stable/model_persistence.html#security-maintainability-limitations\n",
            "  warnings.warn(\n"
          ]
        }
      ]
    },
    {
      "cell_type": "code",
      "source": [
        "def load_dataset(scalerItem,scalerUser):\n",
        "    # Load the CSV file\n",
        "    df = pd.read_csv(\"updated_api_data.csv\")\n",
        "    dfUser=pd.read_csv(\"user_file_forApi.csv\")\n",
        "    item_train = scalerItem.transform(df.iloc[:,3:20])\n",
        "    user_train= scalerUser.transform(dfUser)\n",
        "    info=df.iloc[:,[1,2,4,20]]\n",
        "    return [info,user_train[:,3:],item_train[:,2:]]"
      ],
      "metadata": {
        "id": "3nNxRii2-usQ"
      },
      "execution_count": 9,
      "outputs": []
    },
    {
      "cell_type": "code",
      "source": [
        "nest_asyncio.apply()\n",
        "app = Flask(__name__)\n",
        "\n",
        "CORS(app)\n",
        "\n",
        "@app.route('/predict', methods=['POST'])\n",
        "def predict():\n",
        "    try:\n",
        "        # Parse the input JSON request\n",
        "        input_data = request.json.get(\"data\")\n",
        "\n",
        "        # Ensure input data is a valid numpy array\n",
        "        if input_data is None or not isinstance(input_data, list):\n",
        "            return jsonify({\"error\": \"Invalid input. Expected a list of numbers.\"}), 400\n",
        "\n",
        "        # Convert input data to a NumPy array\n",
        "        input_array = np.array(input_data).reshape(1, -1)  # Adjust reshape based on model input requirements\n",
        "\n",
        "        columns = ['3.95', '4.25', '0.0', '0.0.1', '4.0.1',\n",
        "           '4.12', '4.0.2', '4.04', '0.0.2', '3.0', '4.0.3', '0.0.3', '3.88', '3.89']\n",
        "        df = pd.DataFrame(input_array, columns=columns)\n",
        "        tempDf=pd.read_csv('temp_user_data.csv')\n",
        "        df=pd.concat([tempDf,df],axis=1)\n",
        "\n",
        "        # Replicate rows until the length is 847\n",
        "        replicated_df = pd.concat([df] * (847 // len(df)), ignore_index=True)  # Full replication\n",
        "        remaining_rows = 847 - len(replicated_df)  # Remaining rows to reach 847\n",
        "        if remaining_rows > 0:\n",
        "            replicated_df = pd.concat([replicated_df, df.iloc[:remaining_rows]], ignore_index=True)\n",
        "\n",
        "        user_train=user_scaler.transform(replicated_df)\n",
        "\n",
        "\n",
        "        info,_,item_train=load_dataset(movie_scaler,user_scaler)\n",
        "\n",
        "        # Make predictions using the model\n",
        "        predictions = model.predict([user_train[:,3:],item_train]) #[:,3:]\n",
        "        predictions= rating_scaler.inverse_transform(predictions)\n",
        "\n",
        "        # Convert predictions to a list\n",
        "        predictions_list = predictions.flatten().tolist()  # Flatten if predictions are multi-dimensional\n",
        "\n",
        "        # Format predictions with additional dataframe information\n",
        "        formatted_predictions = []\n",
        "        for i, pred in enumerate(predictions_list):\n",
        "            if i >= len(info):  # Ensure we don't access out-of-range indices\n",
        "                break\n",
        "\n",
        "            # Get the corresponding row from the dataframe\n",
        "            row = info.iloc[i]\n",
        "            label = \"\"\n",
        "            if pred >= 4.5:\n",
        "                label = \"Highly Recommended\"\n",
        "            elif 3.5 <= pred < 4.5:  # Combine conditions correctly\n",
        "                label = \"Good Movie for You\"\n",
        "            elif 2.5 <= pred < 3.5:\n",
        "                label = \"Average\"\n",
        "            else:\n",
        "                label = \"Not for You\"\n",
        "            # Build the JSON object for the prediction\n",
        "            prediction_object = {\n",
        "                \"prediction\": pred,\n",
        "                \"label\":label,\n",
        "                \"title\": row[\"title\"],\n",
        "                \"genres\": row[\"genres\"],\n",
        "                \"year\": int(row[\"2003\"]),  # Adjust the column name if needed\n",
        "                \"image_url\": row[\"Image URL\"]\n",
        "            }\n",
        "            formatted_predictions.append(prediction_object)\n",
        "\n",
        "        sorted_data = sorted(formatted_predictions, key=lambda x: x[\"prediction\"], reverse=True)\n",
        "\n",
        "        # Return sorted predictions as a JSON object\n",
        "        return jsonify(sorted_data)\n",
        "\n",
        "        # Return formatted predictions as a JSON object\n",
        "        #return jsonify(formatted_predictions)\n",
        "\n",
        "    except Exception as e:\n",
        "        return jsonify({\"error\": str(e)}), 500\n",
        "\n",
        "\n",
        "# Function to run Flask in a separate thread\n",
        "def run_flask():\n",
        "    run_simple('0.0.0.0', 8999, app, use_reloader=False)\n",
        "\n",
        "# Start Flask server in a separate thread\n",
        "flask_thread = Thread(target=run_flask)\n",
        "flask_thread.start()\n",
        "\n",
        "# Start ngrok tunnel\n",
        "public_url = ngrok.connect(8999)  # Port should match the Flask server port\n",
        "print('Public URL:', public_url)"
      ],
      "metadata": {
        "colab": {
          "base_uri": "https://localhost:8080/"
        },
        "id": "tIGcF64g-6ZC",
        "outputId": "fbc6560f-d42a-43ed-b652-b7aae2767bda"
      },
      "execution_count": 10,
      "outputs": [
        {
          "output_type": "stream",
          "name": "stderr",
          "text": [
            "INFO:werkzeug:\u001b[31m\u001b[1mWARNING: This is a development server. Do not use it in a production deployment. Use a production WSGI server instead.\u001b[0m\n",
            " * Running on all addresses (0.0.0.0)\n",
            " * Running on http://127.0.0.1:8999\n",
            " * Running on http://172.28.0.2:8999\n",
            "INFO:werkzeug:\u001b[33mPress CTRL+C to quit\u001b[0m\n"
          ]
        },
        {
          "output_type": "stream",
          "name": "stdout",
          "text": [
            "Public URL: NgrokTunnel: \"https://3927-34-23-69-56.ngrok-free.app\" -> \"http://localhost:8999\"\n"
          ]
        }
      ]
    }
  ]
}