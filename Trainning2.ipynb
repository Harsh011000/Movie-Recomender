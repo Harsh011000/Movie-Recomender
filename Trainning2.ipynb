{
 "cells": [
  {
   "cell_type": "code",
   "execution_count": 1,
   "id": "6866f26e-a77f-45f3-81ee-c09ce6024a1a",
   "metadata": {},
   "outputs": [
    {
     "name": "stderr",
     "output_type": "stream",
     "text": [
      "2025-01-10 01:10:38.360764: I tensorflow/core/util/port.cc:113] oneDNN custom operations are on. You may see slightly different numerical results due to floating-point round-off errors from different computation orders. To turn them off, set the environment variable `TF_ENABLE_ONEDNN_OPTS=0`.\n",
      "2025-01-10 01:10:38.370903: E external/local_xla/xla/stream_executor/cuda/cuda_fft.cc:479] Unable to register cuFFT factory: Attempting to register factory for plugin cuFFT when one has already been registered\n",
      "2025-01-10 01:10:38.385705: E external/local_xla/xla/stream_executor/cuda/cuda_dnn.cc:10575] Unable to register cuDNN factory: Attempting to register factory for plugin cuDNN when one has already been registered\n",
      "2025-01-10 01:10:38.385735: E external/local_xla/xla/stream_executor/cuda/cuda_blas.cc:1442] Unable to register cuBLAS factory: Attempting to register factory for plugin cuBLAS when one has already been registered\n",
      "2025-01-10 01:10:38.395220: I tensorflow/core/platform/cpu_feature_guard.cc:210] This TensorFlow binary is optimized to use available CPU instructions in performance-critical operations.\n",
      "To enable the following instructions: AVX2 AVX_VNNI FMA, in other operations, rebuild TensorFlow with the appropriate compiler flags.\n",
      "2025-01-10 01:10:38.932215: W tensorflow/compiler/tf2tensorrt/utils/py_utils.cc:38] TF-TRT Warning: Could not find TensorRT\n",
      "/home/tensor/anaconda3/envs/tensor_check/lib/python3.11/site-packages/requests/__init__.py:86: RequestsDependencyWarning: Unable to find acceptable character detection dependency (chardet or charset_normalizer).\n",
      "  warnings.warn(\n"
     ]
    }
   ],
   "source": [
    "import tensorflow as tf\n",
    "from joblib import load\n",
    "import pandas as pd\n",
    "from sklearn.preprocessing import OneHotEncoder, MinMaxScaler\n",
    "from sklearn.model_selection import train_test_split"
   ]
  },
  {
   "cell_type": "code",
   "execution_count": 2,
   "id": "4421b55a-105c-4be6-bc76-31b1465135db",
   "metadata": {},
   "outputs": [],
   "source": [
    "user_scaler=load('Models/UserScaler.joblib')\n",
    "movie_scaler=load('Models/MovieScaler.joblib')\n",
    "rating_scaler=load('Models/MinMaxRatingScaler.joblib')"
   ]
  },
  {
   "cell_type": "code",
   "execution_count": 3,
   "id": "d1bce5c1-b14f-4cd6-9b6f-068a7e80717f",
   "metadata": {},
   "outputs": [],
   "source": [
    "import keras\n",
    "from tensorflow.keras.layers import Layer\n",
    "@keras.saving.register_keras_serializable(package=\"MyLayers\")\n",
    "class L2Normalization(Layer):\n",
    "    def call(self, inputs):\n",
    "        return tf.linalg.l2_normalize(inputs, axis=1)\n",
    "\n",
    "custom_objects = {\n",
    "    \"L2Normalization\": L2Normalization\n",
    "}"
   ]
  },
  {
   "cell_type": "code",
   "execution_count": 21,
   "id": "1e59bdd3-54bb-4a7d-bcd5-609bf28f8972",
   "metadata": {},
   "outputs": [
    {
     "name": "stderr",
     "output_type": "stream",
     "text": [
      "/home/tensor/anaconda3/envs/tensor_check/lib/python3.11/site-packages/keras/src/saving/saving_lib.py:576: UserWarning: Skipping variable loading for optimizer 'rmsprop', because it has 18 variables whereas the saved optimizer has 34 variables. \n",
      "  saveable.load_own_variables(weights_store.get(inner_path))\n"
     ]
    }
   ],
   "source": [
    "model = tf.keras.models.load_model('Models/my_model.keras',custom_objects=custom_objects)"
   ]
  },
  {
   "cell_type": "code",
   "execution_count": 5,
   "id": "bc109824-ff7b-4209-8e4b-15f983ea8676",
   "metadata": {},
   "outputs": [],
   "source": [
    "def load_dataset(scalerUser,scalerItem,scalerTarget):\n",
    "    import pandas as pd\n",
    "    from sklearn.model_selection import train_test_split\n",
    "    from sklearn.preprocessing import StandardScaler, MinMaxScaler\n",
    "    \n",
    "    # Load the CSV file\n",
    "    # df = pd.read_csv(\"/mnt/e/Python projects/Movie Recomender/normalized_user_movie_data.csv\")\n",
    "\n",
    "    item_train=pd.read_csv(\"/mnt/e/Python projects/Movie Recomender/data/content_item_train.csv\")\n",
    "    user_train=pd.read_csv(\"/mnt/e/Python projects/Movie Recomender/data/content_user_train.csv\")\n",
    "    y_train=pd.read_csv(\"/mnt/e/Python projects/Movie Recomender/data/content_y_train.csv\")\n",
    "    \n",
    "    \n",
    "    item_train = scalerItem.transform(item_train)\n",
    "    \n",
    "    \n",
    "    user_train = scalerUser.transform(user_train)\n",
    "    \n",
    "    \n",
    "    y_train = scalerTarget.transform(y_train)\n",
    "\n",
    "\n",
    "    item_train, item_test = train_test_split(item_train, train_size=0.80, shuffle=True, random_state=1)\n",
    "    user_train, user_test = train_test_split(user_train, train_size=0.80, shuffle=True, random_state=1)\n",
    "    y_train, y_test       = train_test_split(y_train,    train_size=0.80, shuffle=True, random_state=1)\n",
    "    \n",
    "    #return [user_train[:,3:],item_train[:,2:],y_train,user_test[:,3:],item_test[:,2:],y_test]\n",
    "    return [user_train,item_train,y_train,user_test,item_test,y_test]\n",
    "    \n"
   ]
  },
  {
   "cell_type": "code",
   "execution_count": 6,
   "id": "9f34deb6-9528-42f0-a2a7-0b2ddb05decb",
   "metadata": {},
   "outputs": [],
   "source": [
    "UserTrain,MovieTrain,y_train,UserDev,MovieDev,y_dev=load_dataset(user_scaler,movie_scaler,rating_scaler)"
   ]
  },
  {
   "cell_type": "code",
   "execution_count": 22,
   "id": "5c2dfac5-8567-462a-be25-3769aa6bcdf4",
   "metadata": {},
   "outputs": [
    {
     "name": "stdout",
     "output_type": "stream",
     "text": [
      "Epoch 1/30\n",
      "\u001b[1m1273/1273\u001b[0m \u001b[32m━━━━━━━━━━━━━━━━━━━━\u001b[0m\u001b[37m\u001b[0m \u001b[1m6s\u001b[0m 4ms/step - loss: 0.0985 - mean_squared_error: 0.0985 - r2_score: 0.4576 - val_loss: 0.1066 - val_mean_squared_error: 0.1066 - val_r2_score: 0.4176\n",
      "Epoch 2/30\n",
      "\u001b[1m1273/1273\u001b[0m \u001b[32m━━━━━━━━━━━━━━━━━━━━\u001b[0m\u001b[37m\u001b[0m \u001b[1m3s\u001b[0m 3ms/step - loss: 0.0989 - mean_squared_error: 0.0989 - r2_score: 0.4573 - val_loss: 0.1059 - val_mean_squared_error: 0.1059 - val_r2_score: 0.4214\n",
      "Epoch 3/30\n",
      "\u001b[1m1273/1273\u001b[0m \u001b[32m━━━━━━━━━━━━━━━━━━━━\u001b[0m\u001b[37m\u001b[0m \u001b[1m3s\u001b[0m 2ms/step - loss: 0.0981 - mean_squared_error: 0.0981 - r2_score: 0.4560 - val_loss: 0.1077 - val_mean_squared_error: 0.1077 - val_r2_score: 0.4118\n",
      "Epoch 4/30\n",
      "\u001b[1m1273/1273\u001b[0m \u001b[32m━━━━━━━━━━━━━━━━━━━━\u001b[0m\u001b[37m\u001b[0m \u001b[1m3s\u001b[0m 2ms/step - loss: 0.0969 - mean_squared_error: 0.0969 - r2_score: 0.4588 - val_loss: 0.1059 - val_mean_squared_error: 0.1059 - val_r2_score: 0.4219\n",
      "Epoch 5/30\n",
      "\u001b[1m1273/1273\u001b[0m \u001b[32m━━━━━━━━━━━━━━━━━━━━\u001b[0m\u001b[37m\u001b[0m \u001b[1m3s\u001b[0m 3ms/step - loss: 0.0974 - mean_squared_error: 0.0974 - r2_score: 0.4655 - val_loss: 0.1044 - val_mean_squared_error: 0.1044 - val_r2_score: 0.4301\n",
      "Epoch 6/30\n",
      "\u001b[1m1273/1273\u001b[0m \u001b[32m━━━━━━━━━━━━━━━━━━━━\u001b[0m\u001b[37m\u001b[0m \u001b[1m3s\u001b[0m 3ms/step - loss: 0.0964 - mean_squared_error: 0.0964 - r2_score: 0.4612 - val_loss: 0.1045 - val_mean_squared_error: 0.1045 - val_r2_score: 0.4291\n",
      "Epoch 7/30\n",
      "\u001b[1m1273/1273\u001b[0m \u001b[32m━━━━━━━━━━━━━━━━━━━━\u001b[0m\u001b[37m\u001b[0m \u001b[1m3s\u001b[0m 3ms/step - loss: 0.0974 - mean_squared_error: 0.0974 - r2_score: 0.4619 - val_loss: 0.1050 - val_mean_squared_error: 0.1050 - val_r2_score: 0.4266\n",
      "Epoch 8/30\n",
      "\u001b[1m1273/1273\u001b[0m \u001b[32m━━━━━━━━━━━━━━━━━━━━\u001b[0m\u001b[37m\u001b[0m \u001b[1m3s\u001b[0m 2ms/step - loss: 0.0964 - mean_squared_error: 0.0964 - r2_score: 0.4654 - val_loss: 0.1042 - val_mean_squared_error: 0.1042 - val_r2_score: 0.4312\n",
      "Epoch 9/30\n",
      "\u001b[1m1273/1273\u001b[0m \u001b[32m━━━━━━━━━━━━━━━━━━━━\u001b[0m\u001b[37m\u001b[0m \u001b[1m3s\u001b[0m 2ms/step - loss: 0.0953 - mean_squared_error: 0.0953 - r2_score: 0.4671 - val_loss: 0.1033 - val_mean_squared_error: 0.1033 - val_r2_score: 0.4358\n",
      "Epoch 10/30\n",
      "\u001b[1m1273/1273\u001b[0m \u001b[32m━━━━━━━━━━━━━━━━━━━━\u001b[0m\u001b[37m\u001b[0m \u001b[1m3s\u001b[0m 3ms/step - loss: 0.0957 - mean_squared_error: 0.0957 - r2_score: 0.4734 - val_loss: 0.1037 - val_mean_squared_error: 0.1037 - val_r2_score: 0.4338\n",
      "Epoch 11/30\n",
      "\u001b[1m1273/1273\u001b[0m \u001b[32m━━━━━━━━━━━━━━━━━━━━\u001b[0m\u001b[37m\u001b[0m \u001b[1m3s\u001b[0m 3ms/step - loss: 0.0954 - mean_squared_error: 0.0954 - r2_score: 0.4705 - val_loss: 0.1036 - val_mean_squared_error: 0.1036 - val_r2_score: 0.4341\n",
      "Epoch 12/30\n",
      "\u001b[1m1273/1273\u001b[0m \u001b[32m━━━━━━━━━━━━━━━━━━━━\u001b[0m\u001b[37m\u001b[0m \u001b[1m3s\u001b[0m 3ms/step - loss: 0.0934 - mean_squared_error: 0.0934 - r2_score: 0.4747 - val_loss: 0.1030 - val_mean_squared_error: 0.1030 - val_r2_score: 0.4374\n",
      "Epoch 13/30\n",
      "\u001b[1m1273/1273\u001b[0m \u001b[32m━━━━━━━━━━━━━━━━━━━━\u001b[0m\u001b[37m\u001b[0m \u001b[1m3s\u001b[0m 3ms/step - loss: 0.0945 - mean_squared_error: 0.0945 - r2_score: 0.4727 - val_loss: 0.1025 - val_mean_squared_error: 0.1025 - val_r2_score: 0.4404\n",
      "Epoch 14/30\n",
      "\u001b[1m1273/1273\u001b[0m \u001b[32m━━━━━━━━━━━━━━━━━━━━\u001b[0m\u001b[37m\u001b[0m \u001b[1m3s\u001b[0m 3ms/step - loss: 0.0953 - mean_squared_error: 0.0953 - r2_score: 0.4728 - val_loss: 0.1031 - val_mean_squared_error: 0.1031 - val_r2_score: 0.4371\n",
      "Epoch 15/30\n",
      "\u001b[1m1273/1273\u001b[0m \u001b[32m━━━━━━━━━━━━━━━━━━━━\u001b[0m\u001b[37m\u001b[0m \u001b[1m3s\u001b[0m 3ms/step - loss: 0.0929 - mean_squared_error: 0.0929 - r2_score: 0.4748 - val_loss: 0.1024 - val_mean_squared_error: 0.1024 - val_r2_score: 0.4410\n",
      "Epoch 16/30\n",
      "\u001b[1m1273/1273\u001b[0m \u001b[32m━━━━━━━━━━━━━━━━━━━━\u001b[0m\u001b[37m\u001b[0m \u001b[1m3s\u001b[0m 3ms/step - loss: 0.0950 - mean_squared_error: 0.0950 - r2_score: 0.4766 - val_loss: 0.1028 - val_mean_squared_error: 0.1028 - val_r2_score: 0.4387\n",
      "Epoch 17/30\n",
      "\u001b[1m1273/1273\u001b[0m \u001b[32m━━━━━━━━━━━━━━━━━━━━\u001b[0m\u001b[37m\u001b[0m \u001b[1m3s\u001b[0m 2ms/step - loss: 0.0944 - mean_squared_error: 0.0944 - r2_score: 0.4761 - val_loss: 0.1027 - val_mean_squared_error: 0.1027 - val_r2_score: 0.4390\n",
      "Epoch 18/30\n",
      "\u001b[1m1273/1273\u001b[0m \u001b[32m━━━━━━━━━━━━━━━━━━━━\u001b[0m\u001b[37m\u001b[0m \u001b[1m3s\u001b[0m 2ms/step - loss: 0.0939 - mean_squared_error: 0.0939 - r2_score: 0.4825 - val_loss: 0.1028 - val_mean_squared_error: 0.1028 - val_r2_score: 0.4387\n",
      "Epoch 19/30\n",
      "\u001b[1m1273/1273\u001b[0m \u001b[32m━━━━━━━━━━━━━━━━━━━━\u001b[0m\u001b[37m\u001b[0m \u001b[1m3s\u001b[0m 2ms/step - loss: 0.0929 - mean_squared_error: 0.0929 - r2_score: 0.4826 - val_loss: 0.1026 - val_mean_squared_error: 0.1026 - val_r2_score: 0.4399\n",
      "Epoch 20/30\n",
      "\u001b[1m1273/1273\u001b[0m \u001b[32m━━━━━━━━━━━━━━━━━━━━\u001b[0m\u001b[37m\u001b[0m \u001b[1m3s\u001b[0m 2ms/step - loss: 0.0947 - mean_squared_error: 0.0947 - r2_score: 0.4781 - val_loss: 0.1022 - val_mean_squared_error: 0.1022 - val_r2_score: 0.4418\n",
      "Epoch 21/30\n",
      "\u001b[1m1273/1273\u001b[0m \u001b[32m━━━━━━━━━━━━━━━━━━━━\u001b[0m\u001b[37m\u001b[0m \u001b[1m3s\u001b[0m 2ms/step - loss: 0.0922 - mean_squared_error: 0.0922 - r2_score: 0.4835 - val_loss: 0.1017 - val_mean_squared_error: 0.1017 - val_r2_score: 0.4445\n",
      "Epoch 22/30\n",
      "\u001b[1m1273/1273\u001b[0m \u001b[32m━━━━━━━━━━━━━━━━━━━━\u001b[0m\u001b[37m\u001b[0m \u001b[1m3s\u001b[0m 2ms/step - loss: 0.0932 - mean_squared_error: 0.0932 - r2_score: 0.4899 - val_loss: 0.1031 - val_mean_squared_error: 0.1031 - val_r2_score: 0.4372\n",
      "Epoch 23/30\n",
      "\u001b[1m1273/1273\u001b[0m \u001b[32m━━━━━━━━━━━━━━━━━━━━\u001b[0m\u001b[37m\u001b[0m \u001b[1m3s\u001b[0m 2ms/step - loss: 0.0932 - mean_squared_error: 0.0932 - r2_score: 0.4866 - val_loss: 0.1024 - val_mean_squared_error: 0.1024 - val_r2_score: 0.4405\n",
      "Epoch 24/30\n",
      "\u001b[1m1273/1273\u001b[0m \u001b[32m━━━━━━━━━━━━━━━━━━━━\u001b[0m\u001b[37m\u001b[0m \u001b[1m3s\u001b[0m 2ms/step - loss: 0.0929 - mean_squared_error: 0.0929 - r2_score: 0.4902 - val_loss: 0.1021 - val_mean_squared_error: 0.1021 - val_r2_score: 0.4422\n",
      "Epoch 25/30\n",
      "\u001b[1m1273/1273\u001b[0m \u001b[32m━━━━━━━━━━━━━━━━━━━━\u001b[0m\u001b[37m\u001b[0m \u001b[1m3s\u001b[0m 2ms/step - loss: 0.0917 - mean_squared_error: 0.0917 - r2_score: 0.4932 - val_loss: 0.1017 - val_mean_squared_error: 0.1017 - val_r2_score: 0.4444\n",
      "Epoch 26/30\n",
      "\u001b[1m1273/1273\u001b[0m \u001b[32m━━━━━━━━━━━━━━━━━━━━\u001b[0m\u001b[37m\u001b[0m \u001b[1m3s\u001b[0m 2ms/step - loss: 0.0915 - mean_squared_error: 0.0915 - r2_score: 0.4878 - val_loss: 0.1019 - val_mean_squared_error: 0.1019 - val_r2_score: 0.4437\n",
      "Epoch 27/30\n",
      "\u001b[1m1273/1273\u001b[0m \u001b[32m━━━━━━━━━━━━━━━━━━━━\u001b[0m\u001b[37m\u001b[0m \u001b[1m3s\u001b[0m 2ms/step - loss: 0.0934 - mean_squared_error: 0.0934 - r2_score: 0.4824 - val_loss: 0.1019 - val_mean_squared_error: 0.1019 - val_r2_score: 0.4433\n",
      "Epoch 28/30\n",
      "\u001b[1m1273/1273\u001b[0m \u001b[32m━━━━━━━━━━━━━━━━━━━━\u001b[0m\u001b[37m\u001b[0m \u001b[1m3s\u001b[0m 2ms/step - loss: 0.0919 - mean_squared_error: 0.0919 - r2_score: 0.4964 - val_loss: 0.1018 - val_mean_squared_error: 0.1018 - val_r2_score: 0.4439\n",
      "Epoch 29/30\n",
      "\u001b[1m1273/1273\u001b[0m \u001b[32m━━━━━━━━━━━━━━━━━━━━\u001b[0m\u001b[37m\u001b[0m \u001b[1m4s\u001b[0m 3ms/step - loss: 0.0931 - mean_squared_error: 0.0931 - r2_score: 0.4882 - val_loss: 0.1017 - val_mean_squared_error: 0.1017 - val_r2_score: 0.4448\n",
      "Epoch 30/30\n",
      "\u001b[1m1273/1273\u001b[0m \u001b[32m━━━━━━━━━━━━━━━━━━━━\u001b[0m\u001b[37m\u001b[0m \u001b[1m3s\u001b[0m 2ms/step - loss: 0.0922 - mean_squared_error: 0.0922 - r2_score: 0.4940 - val_loss: 0.1031 - val_mean_squared_error: 0.1031 - val_r2_score: 0.4368\n"
     ]
    }
   ],
   "source": [
    "history=model.fit(\n",
    "        [UserTrain[:,3:],MovieTrain[:,2:]], y_train,\n",
    "        epochs=30,\n",
    "        validation_data=([UserDev[:,3:],MovieDev[:,2:]], y_dev)\n",
    "    )\n"
   ]
  },
  {
   "cell_type": "code",
   "execution_count": 23,
   "id": "48712a90-3379-4c88-81e6-b82622cd174c",
   "metadata": {},
   "outputs": [],
   "source": [
    "model.compile(\n",
    "        optimizer=tf.keras.optimizers.Adam(learning_rate=0.0001),\n",
    "        loss=tf.keras.losses.mse,\n",
    "        metrics=['r2_score','mean_squared_error']\n",
    "    )"
   ]
  },
  {
   "cell_type": "code",
   "execution_count": 27,
   "id": "abfa89c9-fb40-4bf8-918d-f701d9c5e4b4",
   "metadata": {},
   "outputs": [
    {
     "name": "stdout",
     "output_type": "stream",
     "text": [
      "Epoch 30/40\n",
      "\u001b[1m  45/1273\u001b[0m \u001b[37m━━━━━━━━━━━━━━━━━━━━\u001b[0m \u001b[1m4s\u001b[0m 3ms/step - loss: 0.1080 - mean_squared_error: 0.1080 - r2_score: 0.4614"
     ]
    },
    {
     "name": "stderr",
     "output_type": "stream",
     "text": [
      "WARNING: All log messages before absl::InitializeLog() is called are written to STDERR\n",
      "I0000 00:00:1736452519.307805    2114 asm_compiler.cc:369] ptxas warning : Registers are spilled to local memory in function 'input_slice_fusion_3', 4 bytes spill stores, 4 bytes spill loads\n",
      "\n"
     ]
    },
    {
     "name": "stdout",
     "output_type": "stream",
     "text": [
      "\u001b[1m1273/1273\u001b[0m \u001b[32m━━━━━━━━━━━━━━━━━━━━\u001b[0m\u001b[37m\u001b[0m \u001b[1m8s\u001b[0m 4ms/step - loss: 0.0896 - mean_squared_error: 0.0896 - r2_score: 0.5014 - val_loss: 0.0997 - val_mean_squared_error: 0.0997 - val_r2_score: 0.4555\n",
      "Epoch 31/40\n",
      "\u001b[1m1273/1273\u001b[0m \u001b[32m━━━━━━━━━━━━━━━━━━━━\u001b[0m\u001b[37m\u001b[0m \u001b[1m3s\u001b[0m 3ms/step - loss: 0.0887 - mean_squared_error: 0.0887 - r2_score: 0.5131 - val_loss: 0.0995 - val_mean_squared_error: 0.0995 - val_r2_score: 0.4569\n",
      "Epoch 32/40\n",
      "\u001b[1m1273/1273\u001b[0m \u001b[32m━━━━━━━━━━━━━━━━━━━━\u001b[0m\u001b[37m\u001b[0m \u001b[1m3s\u001b[0m 3ms/step - loss: 0.0884 - mean_squared_error: 0.0884 - r2_score: 0.5113 - val_loss: 0.0994 - val_mean_squared_error: 0.0994 - val_r2_score: 0.4572\n",
      "Epoch 33/40\n",
      "\u001b[1m1273/1273\u001b[0m \u001b[32m━━━━━━━━━━━━━━━━━━━━\u001b[0m\u001b[37m\u001b[0m \u001b[1m3s\u001b[0m 3ms/step - loss: 0.0867 - mean_squared_error: 0.0867 - r2_score: 0.5138 - val_loss: 0.0992 - val_mean_squared_error: 0.0992 - val_r2_score: 0.4581\n",
      "Epoch 34/40\n",
      "\u001b[1m1273/1273\u001b[0m \u001b[32m━━━━━━━━━━━━━━━━━━━━\u001b[0m\u001b[37m\u001b[0m \u001b[1m3s\u001b[0m 3ms/step - loss: 0.0895 - mean_squared_error: 0.0895 - r2_score: 0.5135 - val_loss: 0.0991 - val_mean_squared_error: 0.0991 - val_r2_score: 0.4586\n",
      "Epoch 35/40\n",
      "\u001b[1m1273/1273\u001b[0m \u001b[32m━━━━━━━━━━━━━━━━━━━━\u001b[0m\u001b[37m\u001b[0m \u001b[1m3s\u001b[0m 3ms/step - loss: 0.0876 - mean_squared_error: 0.0876 - r2_score: 0.5114 - val_loss: 0.0992 - val_mean_squared_error: 0.0992 - val_r2_score: 0.4584\n",
      "Epoch 36/40\n",
      "\u001b[1m1273/1273\u001b[0m \u001b[32m━━━━━━━━━━━━━━━━━━━━\u001b[0m\u001b[37m\u001b[0m \u001b[1m3s\u001b[0m 3ms/step - loss: 0.0874 - mean_squared_error: 0.0874 - r2_score: 0.5143 - val_loss: 0.0992 - val_mean_squared_error: 0.0992 - val_r2_score: 0.4583\n",
      "Epoch 37/40\n",
      "\u001b[1m1273/1273\u001b[0m \u001b[32m━━━━━━━━━━━━━━━━━━━━\u001b[0m\u001b[37m\u001b[0m \u001b[1m3s\u001b[0m 3ms/step - loss: 0.0890 - mean_squared_error: 0.0890 - r2_score: 0.5128 - val_loss: 0.0991 - val_mean_squared_error: 0.0991 - val_r2_score: 0.4589\n",
      "Epoch 38/40\n",
      "\u001b[1m1273/1273\u001b[0m \u001b[32m━━━━━━━━━━━━━━━━━━━━\u001b[0m\u001b[37m\u001b[0m \u001b[1m3s\u001b[0m 3ms/step - loss: 0.0874 - mean_squared_error: 0.0874 - r2_score: 0.5202 - val_loss: 0.0990 - val_mean_squared_error: 0.0990 - val_r2_score: 0.4594\n",
      "Epoch 39/40\n",
      "\u001b[1m1273/1273\u001b[0m \u001b[32m━━━━━━━━━━━━━━━━━━━━\u001b[0m\u001b[37m\u001b[0m \u001b[1m3s\u001b[0m 3ms/step - loss: 0.0877 - mean_squared_error: 0.0877 - r2_score: 0.5114 - val_loss: 0.0990 - val_mean_squared_error: 0.0990 - val_r2_score: 0.4593\n",
      "Epoch 40/40\n",
      "\u001b[1m1273/1273\u001b[0m \u001b[32m━━━━━━━━━━━━━━━━━━━━\u001b[0m\u001b[37m\u001b[0m \u001b[1m3s\u001b[0m 3ms/step - loss: 0.0884 - mean_squared_error: 0.0884 - r2_score: 0.5142 - val_loss: 0.0990 - val_mean_squared_error: 0.0990 - val_r2_score: 0.4594\n"
     ]
    }
   ],
   "source": [
    "history2=model.fit(\n",
    "        [UserTrain[:,3:],MovieTrain[:,2:]], y_train,\n",
    "        epochs=40,\n",
    "        initial_epoch=history.epoch[-1],\n",
    "        validation_data=([UserDev[:,3:],MovieDev[:,2:]], y_dev),\n",
    "        verbose=1\n",
    "    )\n"
   ]
  },
  {
   "cell_type": "code",
   "execution_count": 28,
   "id": "6ae2f0a8-77a4-454d-9d0e-989810eb9252",
   "metadata": {},
   "outputs": [
    {
     "name": "stdout",
     "output_type": "stream",
     "text": [
      "Epoch 40/50\n",
      "\u001b[1m1273/1273\u001b[0m \u001b[32m━━━━━━━━━━━━━━━━━━━━\u001b[0m\u001b[37m\u001b[0m \u001b[1m3s\u001b[0m 3ms/step - loss: 0.0876 - mean_squared_error: 0.0876 - r2_score: 0.5144 - val_loss: 0.0989 - val_mean_squared_error: 0.0989 - val_r2_score: 0.4597\n",
      "Epoch 41/50\n",
      "\u001b[1m1273/1273\u001b[0m \u001b[32m━━━━━━━━━━━━━━━━━━━━\u001b[0m\u001b[37m\u001b[0m \u001b[1m3s\u001b[0m 3ms/step - loss: 0.0894 - mean_squared_error: 0.0894 - r2_score: 0.5119 - val_loss: 0.0989 - val_mean_squared_error: 0.0989 - val_r2_score: 0.4598\n",
      "Epoch 42/50\n",
      "\u001b[1m1273/1273\u001b[0m \u001b[32m━━━━━━━━━━━━━━━━━━━━\u001b[0m\u001b[37m\u001b[0m \u001b[1m3s\u001b[0m 3ms/step - loss: 0.0878 - mean_squared_error: 0.0878 - r2_score: 0.5174 - val_loss: 0.0989 - val_mean_squared_error: 0.0989 - val_r2_score: 0.4598\n",
      "Epoch 43/50\n",
      "\u001b[1m1273/1273\u001b[0m \u001b[32m━━━━━━━━━━━━━━━━━━━━\u001b[0m\u001b[37m\u001b[0m \u001b[1m3s\u001b[0m 3ms/step - loss: 0.0873 - mean_squared_error: 0.0873 - r2_score: 0.5187 - val_loss: 0.0988 - val_mean_squared_error: 0.0988 - val_r2_score: 0.4604\n",
      "Epoch 44/50\n",
      "\u001b[1m1273/1273\u001b[0m \u001b[32m━━━━━━━━━━━━━━━━━━━━\u001b[0m\u001b[37m\u001b[0m \u001b[1m3s\u001b[0m 2ms/step - loss: 0.0863 - mean_squared_error: 0.0863 - r2_score: 0.5160 - val_loss: 0.0989 - val_mean_squared_error: 0.0989 - val_r2_score: 0.4601\n",
      "Epoch 45/50\n",
      "\u001b[1m1273/1273\u001b[0m \u001b[32m━━━━━━━━━━━━━━━━━━━━\u001b[0m\u001b[37m\u001b[0m \u001b[1m3s\u001b[0m 3ms/step - loss: 0.0867 - mean_squared_error: 0.0867 - r2_score: 0.5210 - val_loss: 0.0988 - val_mean_squared_error: 0.0988 - val_r2_score: 0.4604\n",
      "Epoch 46/50\n",
      "\u001b[1m1273/1273\u001b[0m \u001b[32m━━━━━━━━━━━━━━━━━━━━\u001b[0m\u001b[37m\u001b[0m \u001b[1m3s\u001b[0m 3ms/step - loss: 0.0866 - mean_squared_error: 0.0866 - r2_score: 0.5194 - val_loss: 0.0990 - val_mean_squared_error: 0.0990 - val_r2_score: 0.4595\n",
      "Epoch 47/50\n",
      "\u001b[1m1273/1273\u001b[0m \u001b[32m━━━━━━━━━━━━━━━━━━━━\u001b[0m\u001b[37m\u001b[0m \u001b[1m3s\u001b[0m 3ms/step - loss: 0.0868 - mean_squared_error: 0.0868 - r2_score: 0.5206 - val_loss: 0.0988 - val_mean_squared_error: 0.0988 - val_r2_score: 0.4604\n",
      "Epoch 48/50\n",
      "\u001b[1m1273/1273\u001b[0m \u001b[32m━━━━━━━━━━━━━━━━━━━━\u001b[0m\u001b[37m\u001b[0m \u001b[1m3s\u001b[0m 3ms/step - loss: 0.0877 - mean_squared_error: 0.0877 - r2_score: 0.5179 - val_loss: 0.0987 - val_mean_squared_error: 0.0987 - val_r2_score: 0.4608\n",
      "Epoch 49/50\n",
      "\u001b[1m1273/1273\u001b[0m \u001b[32m━━━━━━━━━━━━━━━━━━━━\u001b[0m\u001b[37m\u001b[0m \u001b[1m3s\u001b[0m 3ms/step - loss: 0.0849 - mean_squared_error: 0.0849 - r2_score: 0.5206 - val_loss: 0.0987 - val_mean_squared_error: 0.0987 - val_r2_score: 0.4609\n",
      "Epoch 50/50\n",
      "\u001b[1m1273/1273\u001b[0m \u001b[32m━━━━━━━━━━━━━━━━━━━━\u001b[0m\u001b[37m\u001b[0m \u001b[1m3s\u001b[0m 3ms/step - loss: 0.0861 - mean_squared_error: 0.0861 - r2_score: 0.5213 - val_loss: 0.0987 - val_mean_squared_error: 0.0987 - val_r2_score: 0.4609\n"
     ]
    }
   ],
   "source": [
    "history3=model.fit(\n",
    "        [UserTrain[:,3:],MovieTrain[:,2:]], y_train,\n",
    "        epochs=50,\n",
    "        initial_epoch=history2.epoch[-1],\n",
    "        validation_data=([UserDev[:,3:],MovieDev[:,2:]], y_dev),\n",
    "        verbose=1\n",
    "    )\n"
   ]
  },
  {
   "cell_type": "code",
   "execution_count": 31,
   "id": "970cd65e-9f8d-4eec-87c6-9a067151bbbe",
   "metadata": {},
   "outputs": [],
   "source": [
    "model.compile(\n",
    "        optimizer=tf.keras.optimizers.Adam(learning_rate=0.00001),\n",
    "        loss=tf.keras.losses.mse,\n",
    "        metrics=['r2_score','mean_squared_error']\n",
    "    )"
   ]
  },
  {
   "cell_type": "code",
   "execution_count": 32,
   "id": "8546dbdb-f9eb-453d-8694-7bc5210ab1c0",
   "metadata": {},
   "outputs": [
    {
     "name": "stdout",
     "output_type": "stream",
     "text": [
      "Epoch 50/65\n",
      "\u001b[1m1273/1273\u001b[0m \u001b[32m━━━━━━━━━━━━━━━━━━━━\u001b[0m\u001b[37m\u001b[0m \u001b[1m7s\u001b[0m 4ms/step - loss: 0.0868 - mean_squared_error: 0.0868 - r2_score: 0.5250 - val_loss: 0.0986 - val_mean_squared_error: 0.0986 - val_r2_score: 0.4617\n",
      "Epoch 51/65\n",
      "\u001b[1m1273/1273\u001b[0m \u001b[32m━━━━━━━━━━━━━━━━━━━━\u001b[0m\u001b[37m\u001b[0m \u001b[1m3s\u001b[0m 3ms/step - loss: 0.0866 - mean_squared_error: 0.0866 - r2_score: 0.5209 - val_loss: 0.0986 - val_mean_squared_error: 0.0986 - val_r2_score: 0.4617\n",
      "Epoch 52/65\n",
      "\u001b[1m1273/1273\u001b[0m \u001b[32m━━━━━━━━━━━━━━━━━━━━\u001b[0m\u001b[37m\u001b[0m \u001b[1m3s\u001b[0m 3ms/step - loss: 0.0853 - mean_squared_error: 0.0853 - r2_score: 0.5265 - val_loss: 0.0986 - val_mean_squared_error: 0.0986 - val_r2_score: 0.4618\n",
      "Epoch 53/65\n",
      "\u001b[1m1273/1273\u001b[0m \u001b[32m━━━━━━━━━━━━━━━━━━━━\u001b[0m\u001b[37m\u001b[0m \u001b[1m3s\u001b[0m 3ms/step - loss: 0.0851 - mean_squared_error: 0.0851 - r2_score: 0.5241 - val_loss: 0.0986 - val_mean_squared_error: 0.0986 - val_r2_score: 0.4618\n",
      "Epoch 54/65\n",
      "\u001b[1m1273/1273\u001b[0m \u001b[32m━━━━━━━━━━━━━━━━━━━━\u001b[0m\u001b[37m\u001b[0m \u001b[1m3s\u001b[0m 3ms/step - loss: 0.0861 - mean_squared_error: 0.0861 - r2_score: 0.5246 - val_loss: 0.0985 - val_mean_squared_error: 0.0985 - val_r2_score: 0.4619\n",
      "Epoch 55/65\n",
      "\u001b[1m1273/1273\u001b[0m \u001b[32m━━━━━━━━━━━━━━━━━━━━\u001b[0m\u001b[37m\u001b[0m \u001b[1m3s\u001b[0m 3ms/step - loss: 0.0860 - mean_squared_error: 0.0860 - r2_score: 0.5264 - val_loss: 0.0985 - val_mean_squared_error: 0.0985 - val_r2_score: 0.4619\n",
      "Epoch 56/65\n",
      "\u001b[1m1273/1273\u001b[0m \u001b[32m━━━━━━━━━━━━━━━━━━━━\u001b[0m\u001b[37m\u001b[0m \u001b[1m3s\u001b[0m 3ms/step - loss: 0.0856 - mean_squared_error: 0.0856 - r2_score: 0.5247 - val_loss: 0.0985 - val_mean_squared_error: 0.0985 - val_r2_score: 0.4619\n",
      "Epoch 57/65\n",
      "\u001b[1m1273/1273\u001b[0m \u001b[32m━━━━━━━━━━━━━━━━━━━━\u001b[0m\u001b[37m\u001b[0m \u001b[1m3s\u001b[0m 3ms/step - loss: 0.0855 - mean_squared_error: 0.0855 - r2_score: 0.5272 - val_loss: 0.0985 - val_mean_squared_error: 0.0985 - val_r2_score: 0.4619\n",
      "Epoch 58/65\n",
      "\u001b[1m1273/1273\u001b[0m \u001b[32m━━━━━━━━━━━━━━━━━━━━\u001b[0m\u001b[37m\u001b[0m \u001b[1m3s\u001b[0m 3ms/step - loss: 0.0865 - mean_squared_error: 0.0865 - r2_score: 0.5241 - val_loss: 0.0985 - val_mean_squared_error: 0.0985 - val_r2_score: 0.4619\n",
      "Epoch 59/65\n",
      "\u001b[1m1273/1273\u001b[0m \u001b[32m━━━━━━━━━━━━━━━━━━━━\u001b[0m\u001b[37m\u001b[0m \u001b[1m3s\u001b[0m 3ms/step - loss: 0.0854 - mean_squared_error: 0.0854 - r2_score: 0.5254 - val_loss: 0.0985 - val_mean_squared_error: 0.0985 - val_r2_score: 0.4619\n",
      "Epoch 60/65\n",
      "\u001b[1m1273/1273\u001b[0m \u001b[32m━━━━━━━━━━━━━━━━━━━━\u001b[0m\u001b[37m\u001b[0m \u001b[1m3s\u001b[0m 3ms/step - loss: 0.0858 - mean_squared_error: 0.0858 - r2_score: 0.5247 - val_loss: 0.0985 - val_mean_squared_error: 0.0985 - val_r2_score: 0.4619\n",
      "Epoch 61/65\n",
      "\u001b[1m1273/1273\u001b[0m \u001b[32m━━━━━━━━━━━━━━━━━━━━\u001b[0m\u001b[37m\u001b[0m \u001b[1m3s\u001b[0m 3ms/step - loss: 0.0851 - mean_squared_error: 0.0851 - r2_score: 0.5226 - val_loss: 0.0985 - val_mean_squared_error: 0.0985 - val_r2_score: 0.4619\n",
      "Epoch 62/65\n",
      "\u001b[1m1273/1273\u001b[0m \u001b[32m━━━━━━━━━━━━━━━━━━━━\u001b[0m\u001b[37m\u001b[0m \u001b[1m3s\u001b[0m 3ms/step - loss: 0.0852 - mean_squared_error: 0.0852 - r2_score: 0.5271 - val_loss: 0.0985 - val_mean_squared_error: 0.0985 - val_r2_score: 0.4619\n",
      "Epoch 63/65\n",
      "\u001b[1m1273/1273\u001b[0m \u001b[32m━━━━━━━━━━━━━━━━━━━━\u001b[0m\u001b[37m\u001b[0m \u001b[1m3s\u001b[0m 3ms/step - loss: 0.0857 - mean_squared_error: 0.0857 - r2_score: 0.5216 - val_loss: 0.0985 - val_mean_squared_error: 0.0985 - val_r2_score: 0.4619\n",
      "Epoch 64/65\n",
      "\u001b[1m1273/1273\u001b[0m \u001b[32m━━━━━━━━━━━━━━━━━━━━\u001b[0m\u001b[37m\u001b[0m \u001b[1m3s\u001b[0m 3ms/step - loss: 0.0859 - mean_squared_error: 0.0859 - r2_score: 0.5230 - val_loss: 0.0985 - val_mean_squared_error: 0.0985 - val_r2_score: 0.4619\n",
      "Epoch 65/65\n",
      "\u001b[1m1273/1273\u001b[0m \u001b[32m━━━━━━━━━━━━━━━━━━━━\u001b[0m\u001b[37m\u001b[0m \u001b[1m3s\u001b[0m 3ms/step - loss: 0.0856 - mean_squared_error: 0.0856 - r2_score: 0.5221 - val_loss: 0.0985 - val_mean_squared_error: 0.0985 - val_r2_score: 0.4619\n"
     ]
    }
   ],
   "source": [
    "history4=model.fit(\n",
    "        [UserTrain[:,3:],MovieTrain[:,2:]], y_train,\n",
    "        epochs=65,\n",
    "        initial_epoch=history3.epoch[-1],\n",
    "        validation_data=([UserDev[:,3:],MovieDev[:,2:]], y_dev),\n",
    "        verbose=1\n",
    "    )\n"
   ]
  },
  {
   "cell_type": "code",
   "execution_count": 33,
   "id": "4a91f53f-8295-4033-a26b-ae8101b25a6a",
   "metadata": {},
   "outputs": [],
   "source": [
    "loss=history.history['loss']+history2.history['loss']+history3.history['loss']+history4.history['loss']\n",
    "val_loss=history.history['val_loss']+history2.history['val_loss']+history3.history['val_loss']+history4.history['val_loss']\n",
    "\n",
    "r2Score=history.history['r2_score']+history2.history['r2_score']+history3.history['r2_score']+history4.history['r2_score']\n",
    "valR2Score=history.history['val_r2_score']+history2.history['val_r2_score']+history3.history['val_r2_score']+history4.history['val_r2_score']"
   ]
  },
  {
   "cell_type": "code",
   "execution_count": 34,
   "id": "1dfb0030-59a4-45b4-b215-64cbcb13a843",
   "metadata": {},
   "outputs": [
    {
     "data": {
      "image/png": "[encoded data removed]",
      "text/plain": [
       "<Figure size 640x480 with 1 Axes>"
      ]
     },
     "metadata": {},
     "output_type": "display_data"
    }
   ],
   "source": [
    "import matplotlib.pyplot as plt\n",
    "\n",
    "# Assuming 'history' is the History object returned by model.fit\n",
    "# Plot training & validation loss values\n",
    "plt.plot(loss, label='Training Loss')\n",
    "plt.plot(val_loss, label='Validation Loss')\n",
    "plt.title('Model Loss')\n",
    "plt.xlabel('Epoch')\n",
    "plt.ylabel('Loss')\n",
    "plt.legend()\n",
    "plt.grid(True)\n",
    "plt.show()"
   ]
  },
  {
   "cell_type": "code",
   "execution_count": 38,
   "id": "3a65b8c4-be81-4773-ab63-6e78034b74a7",
   "metadata": {},
   "outputs": [],
   "source": [
    "model.save('my_model.keras')"
   ]
  }
 ],
 "metadata": {
  "kernelspec": {
   "display_name": "Python 3 (ipykernel)",
   "language": "python",
   "name": "python3"
  },
  "language_info": {
   "codemirror_mode": {
    "name": "ipython",
    "version": 3
   },
   "file_extension": ".py",
   "mimetype": "text/x-python",
   "name": "python",
   "nbconvert_exporter": "python",
   "pygments_lexer": "ipython3",
   "version": "3.11.9"
  }
 },
 "nbformat": 4,
 "nbformat_minor": 5
}
