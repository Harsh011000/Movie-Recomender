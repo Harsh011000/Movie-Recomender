{
 "cells": [
  {
   "cell_type": "code",
   "execution_count": 2,
   "id": "65a0f3e4-98eb-48e3-b909-a2413854e0a8",
   "metadata": {},
   "outputs": [],
   "source": [
    "import tensorflow as tf\n",
    "from joblib import load\n",
    "import pandas as pd\n",
    "from sklearn.preprocessing import OneHotEncoder, MinMaxScaler\n",
    "from sklearn.model_selection import train_test_split"
   ]
  },
  {
   "cell_type": "code",
   "execution_count": 64,
   "id": "7d555b72-7e52-4f3f-b159-07e8de950b57",
   "metadata": {},
   "outputs": [],
   "source": [
    "def load_dataset():\n",
    "    import pandas as pd\n",
    "    from sklearn.model_selection import train_test_split\n",
    "    from sklearn.preprocessing import StandardScaler, MinMaxScaler\n",
    "    \n",
    "    # Load the CSV file\n",
    "    # df = pd.read_csv(\"/mnt/e/Python projects/Movie Recomender/normalized_user_movie_data.csv\")\n",
    "\n",
    "    item_train=pd.read_csv(\"/mnt/e/Python projects/Movie Recomender/data/content_item_train.csv\")\n",
    "    user_train=pd.read_csv(\"/mnt/e/Python projects/Movie Recomender/data/content_user_train.csv\")\n",
    "    y_train=pd.read_csv(\"/mnt/e/Python projects/Movie Recomender/data/content_y_train.csv\")\n",
    "    \n",
    "    scalerItem = StandardScaler()\n",
    "    scalerItem.fit(item_train)\n",
    "    item_train = scalerItem.transform(item_train)\n",
    "    \n",
    "    scalerUser = StandardScaler()\n",
    "    scalerUser.fit(user_train)\n",
    "    user_train = scalerUser.transform(user_train)\n",
    "    \n",
    "    scalerTarget = MinMaxScaler((-1, 1))\n",
    "    scalerTarget.fit(y_train)\n",
    "    y_train = scalerTarget.transform(y_train)\n",
    "\n",
    "\n",
    "    item_train, item_test = train_test_split(item_train, train_size=0.80, shuffle=True, random_state=1)\n",
    "    user_train, user_test = train_test_split(user_train, train_size=0.80, shuffle=True, random_state=1)\n",
    "    y_train, y_test       = train_test_split(y_train,    train_size=0.80, shuffle=True, random_state=1)\n",
    "    \n",
    "    \n",
    "    from joblib import dump,load\n",
    "    dump(scalerUser,'UserScaler.joblib')\n",
    "    dump(scalerItem,'MovieScaler.joblib')\n",
    "    dump(scalerTarget,'MinMaxRatingScaler.joblib')\n",
    "   \n",
    "    # X=df\n",
    "    # # UserTrain=df.iloc[:,2:20]\n",
    "    # # MovieTrain=df.iloc[:,20:39]\n",
    "    # y=df['rating']\n",
    "    \n",
    "       \n",
    "    # Split the data into train (80%), temp (20%) split\n",
    "    # X_train, X_temp, y_train, y_temp = train_test_split(X, y, test_size=0.2, random_state=42)\n",
    "    \n",
    "    # Split the temp data into validation (10%) and test (10%) sets\n",
    "    # X_dev, X_test, y_dev, y_test = train_test_split(X_temp, y_temp, test_size=0.5, random_state=42)\n",
    "    # UserTrain=X_train.iloc[:,2:20]\n",
    "    # MovieTrain=X_train.iloc[:,20:39]\n",
    "    # UserDev=X_dev.iloc[:,2:20]\n",
    "    # MovieDev=X_dev.iloc[:,20:39]\n",
    "    # UserTest=X_test.iloc[:,2:20]\n",
    "    # MovieTest=X_test.iloc[:,20:39]\n",
    "    return [user_train[:,3:],item_train[:,2:],y_train,user_test[:,3:],item_test[:,2:],y_test]\n",
    "    #Display the sizes of each set\n",
    "    # print(f\"Training set: {UserTrain.info()},{MovieTrain.info()}, {y_train.shape}\")\n",
    "    # print(f\"Validation (Dev) set: {UserDev.shape},{MovieDev.shape}, {y_dev.shape}\")\n",
    "    # print(f\"Test set: {UserTest.shape},{MovieTest.shape}, {y_test.shape}\")\n",
    "    #print(X_train)\n",
    "    # UserTest.to_csv(\"UserTest.csv\", index=False)\n",
    "    # MovieTest.to_csv(\"MovieTest.csv\",index=False)\n",
    "    # y_test.to_csv(\"y_test.csv\", index=False)\n"
   ]
  },
  {
   "cell_type": "code",
   "execution_count": 65,
   "id": "6f5cb059-1f75-4d14-8995-68c018cdc324",
   "metadata": {},
   "outputs": [
    {
     "data": {
      "text/plain": [
       "[array([[-0.75002545, -0.71201645,  0.05438833, ..., -0.63795668,\n",
       "         -0.65475297, -0.73380805],\n",
       "        [-0.4964236 , -0.74715933, -0.08397947, ..., -0.55450152,\n",
       "         -0.46625411, -0.3946172 ],\n",
       "        [ 0.3489159 , -0.37815909,  0.38434231, ...,  0.0018662 ,\n",
       "          0.43274043, -0.02312246],\n",
       "        ...,\n",
       "        [ 0.02768689,  0.18412699, -0.03076109, ..., -0.10940734,\n",
       "          0.21524175, -0.2169458 ],\n",
       "        [ 1.29569614,  1.20327051,  0.79944571, ...,  1.46233149,\n",
       "          0.91123753,  1.1398176 ],\n",
       "        [ 0.0107801 ,  0.09626979,  0.29919289, ...,  0.07141217,\n",
       "          0.31674114,  0.1060931 ]]),\n",
       " array([[-0.74706775, -0.71224094, -0.69696856, ..., -0.39919489,\n",
       "         -0.50822894, -0.65974585],\n",
       "        [-1.02211109, -0.71224094,  1.43478495, ..., -0.39919489,\n",
       "         -0.50822894, -0.65974585],\n",
       "        [ 1.16171783,  1.40401926, -0.69696856, ..., -0.39919489,\n",
       "          1.96761721,  1.51573519],\n",
       "        ...,\n",
       "        [-0.09735632, -0.71224094, -0.69696856, ..., -0.39919489,\n",
       "         -0.50822894, -0.65974585],\n",
       "        [ 0.92432343,  1.40401926, -0.69696856, ..., -0.39919489,\n",
       "          1.96761721, -0.65974585],\n",
       "        [-2.49987536,  1.40401926, -0.69696856, ..., -0.39919489,\n",
       "         -0.50822894,  1.51573519]]),\n",
       " array([[0.11111111],\n",
       "        [0.33333333],\n",
       "        [0.55555556],\n",
       "        ...,\n",
       "        [0.33333333],\n",
       "        [0.77777778],\n",
       "        [0.33333333]]),\n",
       " array([[ 1.71836589,  1.74798515,  1.55514677, ...,  1.39278553,\n",
       "          1.25923542,  2.06047847],\n",
       "        [ 1.32950972,  1.41412779,  0.6185032 , ...,  1.30933037,\n",
       "          1.1142363 ,  1.30133705],\n",
       "        [ 1.85362021,  2.02912819, -3.76669169, ...,  0.69732587,\n",
       "          1.52023383,  1.65667984],\n",
       "        ...,\n",
       "        [-0.12447422, -0.07944461,  1.02296293, ...,  0.69732587,\n",
       "          0.21524175,  0.38067617],\n",
       "        [ 0.09531405,  0.14898411,  0.26726186, ...,  0.34959603,\n",
       "          0.24424158,  0.34837228],\n",
       "        [ 0.43344985,  0.44769859,  0.756871  , ...,  0.02968459,\n",
       "          0.59223946,  0.21915672]]),\n",
       " array([[ 1.26364288, -0.71224094,  1.43478495, ..., -0.39919489,\n",
       "         -0.50822894, -0.65974585],\n",
       "        [-0.09950691, -0.71224094,  1.43478495, ...,  2.5050421 ,\n",
       "         -0.50822894, -0.65974585],\n",
       "        [ 0.44212698,  1.40401926, -0.69696856, ..., -0.39919489,\n",
       "         -0.50822894,  1.51573519],\n",
       "        ...,\n",
       "        [ 1.40316624, -0.71224094, -0.69696856, ...,  2.5050421 ,\n",
       "          1.96761721, -0.65974585],\n",
       "        [-0.53634601,  1.40401926,  1.43478495, ..., -0.39919489,\n",
       "         -0.50822894,  1.51573519],\n",
       "        [ 0.59172318,  1.40401926, -0.69696856, ..., -0.39919489,\n",
       "         -0.50822894,  1.51573519]]),\n",
       " array([[1.        ],\n",
       "        [0.77777778],\n",
       "        [0.77777778],\n",
       "        ...,\n",
       "        [1.        ],\n",
       "        [0.11111111],\n",
       "        [1.        ]])]"
      ]
     },
     "execution_count": 65,
     "metadata": {},
     "output_type": "execute_result"
    }
   ],
   "source": [
    "load_dataset()"
   ]
  },
  {
   "cell_type": "code",
   "execution_count": 66,
   "id": "8707f254-fa82-4fd3-8a65-b0de4428b097",
   "metadata": {},
   "outputs": [],
   "source": [
    "UserTrain,MovieTrain,y_train,UserDev,MovieDev,y_dev=load_dataset()"
   ]
  },
  {
   "cell_type": "code",
   "execution_count": 67,
   "id": "feb5bb49-fe1b-4523-85cf-a263e9c32482",
   "metadata": {},
   "outputs": [],
   "source": [
    "from tensorflow.keras.layers import Layer\n",
    "class L2Normalization(Layer):\n",
    "    def call(self, inputs):\n",
    "        return tf.linalg.l2_normalize(inputs, axis=1)\n",
    "\n",
    "def build_model():\n",
    "    input1 = tf.keras.Input(shape=(14,))\n",
    "    input2 = tf.keras.Input(shape=(15,))\n",
    "\n",
    "    # First dense layer\n",
    "    x1 = tf.keras.layers.Dense(45, activation=\"relu\", kernel_initializer=\"he_normal\")(input1)\n",
    "\n",
    "    x1 = tf.keras.layers.Dense(33, activation=\"relu\", kernel_initializer=\"he_normal\")(x1)\n",
    "    x1 = tf.keras.layers.Dense(45, activation=\"relu\", kernel_initializer=\"he_normal\")(x1)\n",
    "    # x1 = tf.keras.layers.Dense(163, activation=\"relu\", kernel_initializer=\"he_normal\")(x1)\n",
    "\n",
    "    # Output layer\n",
    "    embedding1 = tf.keras.layers.Dense(28, activation=\"relu\")(x1)\n",
    "\n",
    "     # First dense layer\n",
    "    x2 = tf.keras.layers.Dense(24, activation=\"relu\", kernel_initializer=\"he_normal\")(input2)\n",
    "\n",
    "    x2 = tf.keras.layers.Dense(13, activation=\"relu\", kernel_initializer=\"he_normal\")(x2)\n",
    "    x2 = tf.keras.layers.Dense(48, activation=\"relu\", kernel_initializer=\"he_normal\")(x2)\n",
    "    # x2 = tf.keras.layers.Dense(163, activation=\"relu\", kernel_initializer=\"he_normal\")(x2)\n",
    "\n",
    "    # Output layer\n",
    "    embedding2 = tf.keras.layers.Dense(28, activation=\"relu\")(x2)\n",
    "\n",
    "\n",
    "    emb1 = L2Normalization()(embedding1)\n",
    "    emb2 = L2Normalization()(embedding2)\n",
    "    #emb1=tf.linalg.l2_normalize(embedding1, axis=1)\n",
    "    #emb2=tf.linalg.l2_normalize(embedding2, axis=1)\n",
    "\n",
    "    output = tf.keras.layers.Dot(axes=1)([emb1, emb2])\n",
    "\n",
    "    # Create the model\n",
    "    model = tf.keras.Model(inputs=[input1,input2], outputs=output)\n",
    "\n",
    "    return model"
   ]
  },
  {
   "cell_type": "code",
   "execution_count": 68,
   "id": "d80aebaa-e0fd-40b5-ad36-82dcb40696d5",
   "metadata": {},
   "outputs": [],
   "source": [
    "model=build_model()"
   ]
  },
  {
   "cell_type": "code",
   "execution_count": 69,
   "id": "537f2f16-98ef-4a99-b0f6-583d4b6d414c",
   "metadata": {},
   "outputs": [],
   "source": [
    "model.compile(\n",
    "        optimizer=tf.keras.optimizers.Adam(learning_rate=0.0003754957799830956),\n",
    "        loss=tf.keras.losses.mse,\n",
    "        metrics=['r2_score','mean_squared_error']\n",
    "    )"
   ]
  },
  {
   "cell_type": "code",
   "execution_count": 70,
   "id": "c83968c0-db2a-4d93-98cb-94dcfd9c7f88",
   "metadata": {},
   "outputs": [
    {
     "name": "stdout",
     "output_type": "stream",
     "text": [
      "Epoch 1/30\n",
      "\u001b[1m  68/1273\u001b[0m \u001b[32m━\u001b[0m\u001b[37m━━━━━━━━━━━━━━━━━━━\u001b[0m \u001b[1m2s\u001b[0m 2ms/step - loss: 0.1954 - mean_squared_error: 0.1954 - r2_score: -0.0071"
     ]
    },
    {
     "name": "stderr",
     "output_type": "stream",
     "text": [
      "I0000 00:00:1736439561.897855   92579 asm_compiler.cc:369] ptxas warning : Registers are spilled to local memory in function 'input_slice_fusion_3', 4 bytes spill stores, 4 bytes spill loads\n",
      "\n"
     ]
    },
    {
     "name": "stdout",
     "output_type": "stream",
     "text": [
      "\u001b[1m1273/1273\u001b[0m \u001b[32m━━━━━━━━━━━━━━━━━━━━\u001b[0m\u001b[37m\u001b[0m \u001b[1m13s\u001b[0m 5ms/step - loss: 0.1427 - mean_squared_error: 0.1427 - r2_score: 0.2135 - val_loss: 0.1240 - val_mean_squared_error: 0.1240 - val_r2_score: 0.3229\n",
      "Epoch 2/30\n",
      "\u001b[1m1273/1273\u001b[0m \u001b[32m━━━━━━━━━━━━━━━━━━━━\u001b[0m\u001b[37m\u001b[0m \u001b[1m3s\u001b[0m 3ms/step - loss: 0.1205 - mean_squared_error: 0.1205 - r2_score: 0.3381 - val_loss: 0.1192 - val_mean_squared_error: 0.1192 - val_r2_score: 0.3490\n",
      "Epoch 3/30\n",
      "\u001b[1m1273/1273\u001b[0m \u001b[32m━━━━━━━━━━━━━━━━━━━━\u001b[0m\u001b[37m\u001b[0m \u001b[1m3s\u001b[0m 3ms/step - loss: 0.1159 - mean_squared_error: 0.1159 - r2_score: 0.3622 - val_loss: 0.1166 - val_mean_squared_error: 0.1166 - val_r2_score: 0.3631\n",
      "Epoch 4/30\n",
      "\u001b[1m1273/1273\u001b[0m \u001b[32m━━━━━━━━━━━━━━━━━━━━\u001b[0m\u001b[37m\u001b[0m \u001b[1m3s\u001b[0m 3ms/step - loss: 0.1105 - mean_squared_error: 0.1105 - r2_score: 0.3827 - val_loss: 0.1142 - val_mean_squared_error: 0.1142 - val_r2_score: 0.3764\n",
      "Epoch 5/30\n",
      "\u001b[1m1273/1273\u001b[0m \u001b[32m━━━━━━━━━━━━━━━━━━━━\u001b[0m\u001b[37m\u001b[0m \u001b[1m3s\u001b[0m 3ms/step - loss: 0.1085 - mean_squared_error: 0.1085 - r2_score: 0.3958 - val_loss: 0.1132 - val_mean_squared_error: 0.1132 - val_r2_score: 0.3819\n",
      "Epoch 6/30\n",
      "\u001b[1m1273/1273\u001b[0m \u001b[32m━━━━━━━━━━━━━━━━━━━━\u001b[0m\u001b[37m\u001b[0m \u001b[1m3s\u001b[0m 3ms/step - loss: 0.1073 - mean_squared_error: 0.1073 - r2_score: 0.3991 - val_loss: 0.1120 - val_mean_squared_error: 0.1120 - val_r2_score: 0.3886\n",
      "Epoch 7/30\n",
      "\u001b[1m1273/1273\u001b[0m \u001b[32m━━━━━━━━━━━━━━━━━━━━\u001b[0m\u001b[37m\u001b[0m \u001b[1m3s\u001b[0m 3ms/step - loss: 0.1063 - mean_squared_error: 0.1063 - r2_score: 0.4106 - val_loss: 0.1110 - val_mean_squared_error: 0.1110 - val_r2_score: 0.3936\n",
      "Epoch 8/30\n",
      "\u001b[1m1273/1273\u001b[0m \u001b[32m━━━━━━━━━━━━━━━━━━━━\u001b[0m\u001b[37m\u001b[0m \u001b[1m3s\u001b[0m 3ms/step - loss: 0.1051 - mean_squared_error: 0.1051 - r2_score: 0.4200 - val_loss: 0.1101 - val_mean_squared_error: 0.1101 - val_r2_score: 0.3987\n",
      "Epoch 9/30\n",
      "\u001b[1m1273/1273\u001b[0m \u001b[32m━━━━━━━━━━━━━━━━━━━━\u001b[0m\u001b[37m\u001b[0m \u001b[1m3s\u001b[0m 3ms/step - loss: 0.1050 - mean_squared_error: 0.1050 - r2_score: 0.4251 - val_loss: 0.1099 - val_mean_squared_error: 0.1099 - val_r2_score: 0.3999\n",
      "Epoch 10/30\n",
      "\u001b[1m1273/1273\u001b[0m \u001b[32m━━━━━━━━━━━━━━━━━━━━\u001b[0m\u001b[37m\u001b[0m \u001b[1m4s\u001b[0m 3ms/step - loss: 0.1034 - mean_squared_error: 0.1034 - r2_score: 0.4248 - val_loss: 0.1097 - val_mean_squared_error: 0.1097 - val_r2_score: 0.4010\n",
      "Epoch 11/30\n",
      "\u001b[1m1273/1273\u001b[0m \u001b[32m━━━━━━━━━━━━━━━━━━━━\u001b[0m\u001b[37m\u001b[0m \u001b[1m3s\u001b[0m 3ms/step - loss: 0.1021 - mean_squared_error: 0.1021 - r2_score: 0.4350 - val_loss: 0.1095 - val_mean_squared_error: 0.1095 - val_r2_score: 0.4019\n",
      "Epoch 12/30\n",
      "\u001b[1m1273/1273\u001b[0m \u001b[32m━━━━━━━━━━━━━━━━━━━━\u001b[0m\u001b[37m\u001b[0m \u001b[1m3s\u001b[0m 3ms/step - loss: 0.1033 - mean_squared_error: 0.1033 - r2_score: 0.4322 - val_loss: 0.1083 - val_mean_squared_error: 0.1083 - val_r2_score: 0.4086\n",
      "Epoch 13/30\n",
      "\u001b[1m1273/1273\u001b[0m \u001b[32m━━━━━━━━━━━━━━━━━━━━\u001b[0m\u001b[37m\u001b[0m \u001b[1m3s\u001b[0m 3ms/step - loss: 0.1003 - mean_squared_error: 0.1003 - r2_score: 0.4379 - val_loss: 0.1082 - val_mean_squared_error: 0.1082 - val_r2_score: 0.4094\n",
      "Epoch 14/30\n",
      "\u001b[1m1273/1273\u001b[0m \u001b[32m━━━━━━━━━━━━━━━━━━━━\u001b[0m\u001b[37m\u001b[0m \u001b[1m3s\u001b[0m 3ms/step - loss: 0.1002 - mean_squared_error: 0.1002 - r2_score: 0.4443 - val_loss: 0.1092 - val_mean_squared_error: 0.1092 - val_r2_score: 0.4036\n",
      "Epoch 15/30\n",
      "\u001b[1m1273/1273\u001b[0m \u001b[32m━━━━━━━━━━━━━━━━━━━━\u001b[0m\u001b[37m\u001b[0m \u001b[1m3s\u001b[0m 3ms/step - loss: 0.1007 - mean_squared_error: 0.1007 - r2_score: 0.4373 - val_loss: 0.1071 - val_mean_squared_error: 0.1071 - val_r2_score: 0.4150\n",
      "Epoch 16/30\n",
      "\u001b[1m1273/1273\u001b[0m \u001b[32m━━━━━━━━━━━━━━━━━━━━\u001b[0m\u001b[37m\u001b[0m \u001b[1m3s\u001b[0m 3ms/step - loss: 0.0999 - mean_squared_error: 0.0999 - r2_score: 0.4425 - val_loss: 0.1074 - val_mean_squared_error: 0.1074 - val_r2_score: 0.4134\n",
      "Epoch 17/30\n",
      "\u001b[1m1273/1273\u001b[0m \u001b[32m━━━━━━━━━━━━━━━━━━━━\u001b[0m\u001b[37m\u001b[0m \u001b[1m3s\u001b[0m 3ms/step - loss: 0.0986 - mean_squared_error: 0.0986 - r2_score: 0.4504 - val_loss: 0.1067 - val_mean_squared_error: 0.1067 - val_r2_score: 0.4175\n",
      "Epoch 18/30\n",
      "\u001b[1m1273/1273\u001b[0m \u001b[32m━━━━━━━━━━━━━━━━━━━━\u001b[0m\u001b[37m\u001b[0m \u001b[1m3s\u001b[0m 3ms/step - loss: 0.1015 - mean_squared_error: 0.1015 - r2_score: 0.4476 - val_loss: 0.1067 - val_mean_squared_error: 0.1067 - val_r2_score: 0.4173\n",
      "Epoch 19/30\n",
      "\u001b[1m1273/1273\u001b[0m \u001b[32m━━━━━━━━━━━━━━━━━━━━\u001b[0m\u001b[37m\u001b[0m \u001b[1m4s\u001b[0m 3ms/step - loss: 0.0983 - mean_squared_error: 0.0983 - r2_score: 0.4540 - val_loss: 0.1064 - val_mean_squared_error: 0.1064 - val_r2_score: 0.4190\n",
      "Epoch 20/30\n",
      "\u001b[1m1273/1273\u001b[0m \u001b[32m━━━━━━━━━━━━━━━━━━━━\u001b[0m\u001b[37m\u001b[0m \u001b[1m3s\u001b[0m 3ms/step - loss: 0.0999 - mean_squared_error: 0.0999 - r2_score: 0.4514 - val_loss: 0.1064 - val_mean_squared_error: 0.1064 - val_r2_score: 0.4191\n",
      "Epoch 21/30\n",
      "\u001b[1m1273/1273\u001b[0m \u001b[32m━━━━━━━━━━━━━━━━━━━━\u001b[0m\u001b[37m\u001b[0m \u001b[1m3s\u001b[0m 3ms/step - loss: 0.0988 - mean_squared_error: 0.0988 - r2_score: 0.4543 - val_loss: 0.1057 - val_mean_squared_error: 0.1057 - val_r2_score: 0.4230\n",
      "Epoch 22/30\n",
      "\u001b[1m1273/1273\u001b[0m \u001b[32m━━━━━━━━━━━━━━━━━━━━\u001b[0m\u001b[37m\u001b[0m \u001b[1m3s\u001b[0m 3ms/step - loss: 0.0981 - mean_squared_error: 0.0981 - r2_score: 0.4595 - val_loss: 0.1056 - val_mean_squared_error: 0.1056 - val_r2_score: 0.4233\n",
      "Epoch 23/30\n",
      "\u001b[1m1273/1273\u001b[0m \u001b[32m━━━━━━━━━━━━━━━━━━━━\u001b[0m\u001b[37m\u001b[0m \u001b[1m3s\u001b[0m 3ms/step - loss: 0.0977 - mean_squared_error: 0.0977 - r2_score: 0.4592 - val_loss: 0.1056 - val_mean_squared_error: 0.1056 - val_r2_score: 0.4235\n",
      "Epoch 24/30\n",
      "\u001b[1m1273/1273\u001b[0m \u001b[32m━━━━━━━━━━━━━━━━━━━━\u001b[0m\u001b[37m\u001b[0m \u001b[1m3s\u001b[0m 3ms/step - loss: 0.0948 - mean_squared_error: 0.0948 - r2_score: 0.4653 - val_loss: 0.1056 - val_mean_squared_error: 0.1056 - val_r2_score: 0.4233\n",
      "Epoch 25/30\n",
      "\u001b[1m1273/1273\u001b[0m \u001b[32m━━━━━━━━━━━━━━━━━━━━\u001b[0m\u001b[37m\u001b[0m \u001b[1m3s\u001b[0m 3ms/step - loss: 0.0963 - mean_squared_error: 0.0963 - r2_score: 0.4645 - val_loss: 0.1050 - val_mean_squared_error: 0.1050 - val_r2_score: 0.4264\n",
      "Epoch 26/30\n",
      "\u001b[1m1273/1273\u001b[0m \u001b[32m━━━━━━━━━━━━━━━━━━━━\u001b[0m\u001b[37m\u001b[0m \u001b[1m3s\u001b[0m 3ms/step - loss: 0.0971 - mean_squared_error: 0.0971 - r2_score: 0.4652 - val_loss: 0.1043 - val_mean_squared_error: 0.1043 - val_r2_score: 0.4302\n",
      "Epoch 27/30\n",
      "\u001b[1m1273/1273\u001b[0m \u001b[32m━━━━━━━━━━━━━━━━━━━━\u001b[0m\u001b[37m\u001b[0m \u001b[1m3s\u001b[0m 3ms/step - loss: 0.0979 - mean_squared_error: 0.0979 - r2_score: 0.4642 - val_loss: 0.1051 - val_mean_squared_error: 0.1051 - val_r2_score: 0.4259\n",
      "Epoch 28/30\n",
      "\u001b[1m1273/1273\u001b[0m \u001b[32m━━━━━━━━━━━━━━━━━━━━\u001b[0m\u001b[37m\u001b[0m \u001b[1m3s\u001b[0m 3ms/step - loss: 0.0958 - mean_squared_error: 0.0958 - r2_score: 0.4656 - val_loss: 0.1053 - val_mean_squared_error: 0.1053 - val_r2_score: 0.4247\n",
      "Epoch 29/30\n",
      "\u001b[1m1273/1273\u001b[0m \u001b[32m━━━━━━━━━━━━━━━━━━━━\u001b[0m\u001b[37m\u001b[0m \u001b[1m3s\u001b[0m 3ms/step - loss: 0.0952 - mean_squared_error: 0.0952 - r2_score: 0.4735 - val_loss: 0.1041 - val_mean_squared_error: 0.1041 - val_r2_score: 0.4317\n",
      "Epoch 30/30\n",
      "\u001b[1m1273/1273\u001b[0m \u001b[32m━━━━━━━━━━━━━━━━━━━━\u001b[0m\u001b[37m\u001b[0m \u001b[1m3s\u001b[0m 3ms/step - loss: 0.0970 - mean_squared_error: 0.0970 - r2_score: 0.4688 - val_loss: 0.1046 - val_mean_squared_error: 0.1046 - val_r2_score: 0.4288\n"
     ]
    }
   ],
   "source": [
    "history=model.fit(\n",
    "        [UserTrain,MovieTrain], y_train,\n",
    "        epochs=30,\n",
    "        validation_data=([UserDev,MovieDev], y_dev)\n",
    "    )\n"
   ]
  },
  {
   "cell_type": "code",
   "execution_count": 71,
   "id": "ce9ca5d6-3c91-488f-a121-362ece05ea98",
   "metadata": {},
   "outputs": [],
   "source": [
    "loss=history.history['loss']\n",
    "val_loss=history.history['val_loss']\n",
    "\n",
    "r2Score=history.history['r2_score']\n",
    "valR2Score=history.history['val_r2_score']"
   ]
  },
  {
   "cell_type": "code",
   "execution_count": 72,
   "id": "77b17e03-15f9-40f2-8801-8657caa3c8c7",
   "metadata": {},
   "outputs": [
    {
     "data": {
      "image/png": "[encoded data removed]",
      "text/plain": [
       "<Figure size 640x480 with 1 Axes>"
      ]
     },
     "metadata": {},
     "output_type": "display_data"
    }
   ],
   "source": [
    "import matplotlib.pyplot as plt\n",
    "\n",
    "# Assuming 'history' is the History object returned by model.fit\n",
    "# Plot training & validation loss values\n",
    "plt.plot(loss, label='Training Loss')\n",
    "plt.plot(val_loss, label='Validation Loss')\n",
    "plt.title('Model Loss')\n",
    "plt.xlabel('Epoch')\n",
    "plt.ylabel('Loss')\n",
    "plt.legend()\n",
    "plt.grid(True)\n",
    "plt.show()"
   ]
  },
  {
   "cell_type": "code",
   "execution_count": 77,
   "id": "2ce07b88-2005-47a0-8a8f-68b0fae9c385",
   "metadata": {},
   "outputs": [],
   "source": [
    "model.save('my_model.keras')"
   ]
  },
  {
   "cell_type": "code",
   "execution_count": 78,
   "id": "37c2a3de-6198-4bbc-b03e-d09e038e9252",
   "metadata": {},
   "outputs": [
    {
     "data": {
      "text/html": [
       "<pre style=\"white-space:pre;overflow-x:auto;line-height:normal;font-family:Menlo,'DejaVu Sans Mono',consolas,'Courier New',monospace\"><span style=\"font-weight: bold\">Model: \"functional_6\"</span>\n",
       "</pre>\n"
      ],
      "text/plain": [
       "\u001b[1mModel: \"functional_6\"\u001b[0m\n"
      ]
     },
     "metadata": {},
     "output_type": "display_data"
    },
    {
     "data": {
      "text/html": [
       "<pre style=\"white-space:pre;overflow-x:auto;line-height:normal;font-family:Menlo,'DejaVu Sans Mono',consolas,'Courier New',monospace\">┏━━━━━━━━━━━━━━━━━━━━━┳━━━━━━━━━━━━━━━━━━━┳━━━━━━━━━━━━┳━━━━━━━━━━━━━━━━━━━┓\n",
       "┃<span style=\"font-weight: bold\"> Layer (type)        </span>┃<span style=\"font-weight: bold\"> Output Shape      </span>┃<span style=\"font-weight: bold\">    Param # </span>┃<span style=\"font-weight: bold\"> Connected to      </span>┃\n",
       "┡━━━━━━━━━━━━━━━━━━━━━╇━━━━━━━━━━━━━━━━━━━╇━━━━━━━━━━━━╇━━━━━━━━━━━━━━━━━━━┩\n",
       "│ input_layer_12      │ (<span style=\"color: #00d7ff; text-decoration-color: #00d7ff\">None</span>, <span style=\"color: #00af00; text-decoration-color: #00af00\">14</span>)        │          <span style=\"color: #00af00; text-decoration-color: #00af00\">0</span> │ -                 │\n",
       "│ (<span style=\"color: #0087ff; text-decoration-color: #0087ff\">InputLayer</span>)        │                   │            │                   │\n",
       "├─────────────────────┼───────────────────┼────────────┼───────────────────┤\n",
       "│ input_layer_13      │ (<span style=\"color: #00d7ff; text-decoration-color: #00d7ff\">None</span>, <span style=\"color: #00af00; text-decoration-color: #00af00\">15</span>)        │          <span style=\"color: #00af00; text-decoration-color: #00af00\">0</span> │ -                 │\n",
       "│ (<span style=\"color: #0087ff; text-decoration-color: #0087ff\">InputLayer</span>)        │                   │            │                   │\n",
       "├─────────────────────┼───────────────────┼────────────┼───────────────────┤\n",
       "│ dense_40 (<span style=\"color: #0087ff; text-decoration-color: #0087ff\">Dense</span>)    │ (<span style=\"color: #00d7ff; text-decoration-color: #00d7ff\">None</span>, <span style=\"color: #00af00; text-decoration-color: #00af00\">45</span>)        │        <span style=\"color: #00af00; text-decoration-color: #00af00\">675</span> │ input_layer_12[<span style=\"color: #00af00; text-decoration-color: #00af00\">0</span>… │\n",
       "├─────────────────────┼───────────────────┼────────────┼───────────────────┤\n",
       "│ dense_44 (<span style=\"color: #0087ff; text-decoration-color: #0087ff\">Dense</span>)    │ (<span style=\"color: #00d7ff; text-decoration-color: #00d7ff\">None</span>, <span style=\"color: #00af00; text-decoration-color: #00af00\">24</span>)        │        <span style=\"color: #00af00; text-decoration-color: #00af00\">384</span> │ input_layer_13[<span style=\"color: #00af00; text-decoration-color: #00af00\">0</span>… │\n",
       "├─────────────────────┼───────────────────┼────────────┼───────────────────┤\n",
       "│ dense_41 (<span style=\"color: #0087ff; text-decoration-color: #0087ff\">Dense</span>)    │ (<span style=\"color: #00d7ff; text-decoration-color: #00d7ff\">None</span>, <span style=\"color: #00af00; text-decoration-color: #00af00\">33</span>)        │      <span style=\"color: #00af00; text-decoration-color: #00af00\">1,518</span> │ dense_40[<span style=\"color: #00af00; text-decoration-color: #00af00\">0</span>][<span style=\"color: #00af00; text-decoration-color: #00af00\">0</span>]    │\n",
       "├─────────────────────┼───────────────────┼────────────┼───────────────────┤\n",
       "│ dense_45 (<span style=\"color: #0087ff; text-decoration-color: #0087ff\">Dense</span>)    │ (<span style=\"color: #00d7ff; text-decoration-color: #00d7ff\">None</span>, <span style=\"color: #00af00; text-decoration-color: #00af00\">13</span>)        │        <span style=\"color: #00af00; text-decoration-color: #00af00\">325</span> │ dense_44[<span style=\"color: #00af00; text-decoration-color: #00af00\">0</span>][<span style=\"color: #00af00; text-decoration-color: #00af00\">0</span>]    │\n",
       "├─────────────────────┼───────────────────┼────────────┼───────────────────┤\n",
       "│ dense_42 (<span style=\"color: #0087ff; text-decoration-color: #0087ff\">Dense</span>)    │ (<span style=\"color: #00d7ff; text-decoration-color: #00d7ff\">None</span>, <span style=\"color: #00af00; text-decoration-color: #00af00\">45</span>)        │      <span style=\"color: #00af00; text-decoration-color: #00af00\">1,530</span> │ dense_41[<span style=\"color: #00af00; text-decoration-color: #00af00\">0</span>][<span style=\"color: #00af00; text-decoration-color: #00af00\">0</span>]    │\n",
       "├─────────────────────┼───────────────────┼────────────┼───────────────────┤\n",
       "│ dense_46 (<span style=\"color: #0087ff; text-decoration-color: #0087ff\">Dense</span>)    │ (<span style=\"color: #00d7ff; text-decoration-color: #00d7ff\">None</span>, <span style=\"color: #00af00; text-decoration-color: #00af00\">48</span>)        │        <span style=\"color: #00af00; text-decoration-color: #00af00\">672</span> │ dense_45[<span style=\"color: #00af00; text-decoration-color: #00af00\">0</span>][<span style=\"color: #00af00; text-decoration-color: #00af00\">0</span>]    │\n",
       "├─────────────────────┼───────────────────┼────────────┼───────────────────┤\n",
       "│ dense_43 (<span style=\"color: #0087ff; text-decoration-color: #0087ff\">Dense</span>)    │ (<span style=\"color: #00d7ff; text-decoration-color: #00d7ff\">None</span>, <span style=\"color: #00af00; text-decoration-color: #00af00\">28</span>)        │      <span style=\"color: #00af00; text-decoration-color: #00af00\">1,288</span> │ dense_42[<span style=\"color: #00af00; text-decoration-color: #00af00\">0</span>][<span style=\"color: #00af00; text-decoration-color: #00af00\">0</span>]    │\n",
       "├─────────────────────┼───────────────────┼────────────┼───────────────────┤\n",
       "│ dense_47 (<span style=\"color: #0087ff; text-decoration-color: #0087ff\">Dense</span>)    │ (<span style=\"color: #00d7ff; text-decoration-color: #00d7ff\">None</span>, <span style=\"color: #00af00; text-decoration-color: #00af00\">28</span>)        │      <span style=\"color: #00af00; text-decoration-color: #00af00\">1,372</span> │ dense_46[<span style=\"color: #00af00; text-decoration-color: #00af00\">0</span>][<span style=\"color: #00af00; text-decoration-color: #00af00\">0</span>]    │\n",
       "├─────────────────────┼───────────────────┼────────────┼───────────────────┤\n",
       "│ l2_normalization_12 │ (<span style=\"color: #00d7ff; text-decoration-color: #00d7ff\">None</span>, <span style=\"color: #00af00; text-decoration-color: #00af00\">28</span>)        │          <span style=\"color: #00af00; text-decoration-color: #00af00\">0</span> │ dense_43[<span style=\"color: #00af00; text-decoration-color: #00af00\">0</span>][<span style=\"color: #00af00; text-decoration-color: #00af00\">0</span>]    │\n",
       "│ (<span style=\"color: #0087ff; text-decoration-color: #0087ff\">L2Normalization</span>)   │                   │            │                   │\n",
       "├─────────────────────┼───────────────────┼────────────┼───────────────────┤\n",
       "│ l2_normalization_13 │ (<span style=\"color: #00d7ff; text-decoration-color: #00d7ff\">None</span>, <span style=\"color: #00af00; text-decoration-color: #00af00\">28</span>)        │          <span style=\"color: #00af00; text-decoration-color: #00af00\">0</span> │ dense_47[<span style=\"color: #00af00; text-decoration-color: #00af00\">0</span>][<span style=\"color: #00af00; text-decoration-color: #00af00\">0</span>]    │\n",
       "│ (<span style=\"color: #0087ff; text-decoration-color: #0087ff\">L2Normalization</span>)   │                   │            │                   │\n",
       "├─────────────────────┼───────────────────┼────────────┼───────────────────┤\n",
       "│ dot_6 (<span style=\"color: #0087ff; text-decoration-color: #0087ff\">Dot</span>)         │ (<span style=\"color: #00d7ff; text-decoration-color: #00d7ff\">None</span>, <span style=\"color: #00af00; text-decoration-color: #00af00\">1</span>)         │          <span style=\"color: #00af00; text-decoration-color: #00af00\">0</span> │ l2_normalization… │\n",
       "│                     │                   │            │ l2_normalization… │\n",
       "└─────────────────────┴───────────────────┴────────────┴───────────────────┘\n",
       "</pre>\n"
      ],
      "text/plain": [
       "┏━━━━━━━━━━━━━━━━━━━━━┳━━━━━━━━━━━━━━━━━━━┳━━━━━━━━━━━━┳━━━━━━━━━━━━━━━━━━━┓\n",
       "┃\u001b[1m \u001b[0m\u001b[1mLayer (type)       \u001b[0m\u001b[1m \u001b[0m┃\u001b[1m \u001b[0m\u001b[1mOutput Shape     \u001b[0m\u001b[1m \u001b[0m┃\u001b[1m \u001b[0m\u001b[1m   Param #\u001b[0m\u001b[1m \u001b[0m┃\u001b[1m \u001b[0m\u001b[1mConnected to     \u001b[0m\u001b[1m \u001b[0m┃\n",
       "┡━━━━━━━━━━━━━━━━━━━━━╇━━━━━━━━━━━━━━━━━━━╇━━━━━━━━━━━━╇━━━━━━━━━━━━━━━━━━━┩\n",
       "│ input_layer_12      │ (\u001b[38;5;45mNone\u001b[0m, \u001b[38;5;34m14\u001b[0m)        │          \u001b[38;5;34m0\u001b[0m │ -                 │\n",
       "│ (\u001b[38;5;33mInputLayer\u001b[0m)        │                   │            │                   │\n",
       "├─────────────────────┼───────────────────┼────────────┼───────────────────┤\n",
       "│ input_layer_13      │ (\u001b[38;5;45mNone\u001b[0m, \u001b[38;5;34m15\u001b[0m)        │          \u001b[38;5;34m0\u001b[0m │ -                 │\n",
       "│ (\u001b[38;5;33mInputLayer\u001b[0m)        │                   │            │                   │\n",
       "├─────────────────────┼───────────────────┼────────────┼───────────────────┤\n",
       "│ dense_40 (\u001b[38;5;33mDense\u001b[0m)    │ (\u001b[38;5;45mNone\u001b[0m, \u001b[38;5;34m45\u001b[0m)        │        \u001b[38;5;34m675\u001b[0m │ input_layer_12[\u001b[38;5;34m0\u001b[0m… │\n",
       "├─────────────────────┼───────────────────┼────────────┼───────────────────┤\n",
       "│ dense_44 (\u001b[38;5;33mDense\u001b[0m)    │ (\u001b[38;5;45mNone\u001b[0m, \u001b[38;5;34m24\u001b[0m)        │        \u001b[38;5;34m384\u001b[0m │ input_layer_13[\u001b[38;5;34m0\u001b[0m… │\n",
       "├─────────────────────┼───────────────────┼────────────┼───────────────────┤\n",
       "│ dense_41 (\u001b[38;5;33mDense\u001b[0m)    │ (\u001b[38;5;45mNone\u001b[0m, \u001b[38;5;34m33\u001b[0m)        │      \u001b[38;5;34m1,518\u001b[0m │ dense_40[\u001b[38;5;34m0\u001b[0m][\u001b[38;5;34m0\u001b[0m]    │\n",
       "├─────────────────────┼───────────────────┼────────────┼───────────────────┤\n",
       "│ dense_45 (\u001b[38;5;33mDense\u001b[0m)    │ (\u001b[38;5;45mNone\u001b[0m, \u001b[38;5;34m13\u001b[0m)        │        \u001b[38;5;34m325\u001b[0m │ dense_44[\u001b[38;5;34m0\u001b[0m][\u001b[38;5;34m0\u001b[0m]    │\n",
       "├─────────────────────┼───────────────────┼────────────┼───────────────────┤\n",
       "│ dense_42 (\u001b[38;5;33mDense\u001b[0m)    │ (\u001b[38;5;45mNone\u001b[0m, \u001b[38;5;34m45\u001b[0m)        │      \u001b[38;5;34m1,530\u001b[0m │ dense_41[\u001b[38;5;34m0\u001b[0m][\u001b[38;5;34m0\u001b[0m]    │\n",
       "├─────────────────────┼───────────────────┼────────────┼───────────────────┤\n",
       "│ dense_46 (\u001b[38;5;33mDense\u001b[0m)    │ (\u001b[38;5;45mNone\u001b[0m, \u001b[38;5;34m48\u001b[0m)        │        \u001b[38;5;34m672\u001b[0m │ dense_45[\u001b[38;5;34m0\u001b[0m][\u001b[38;5;34m0\u001b[0m]    │\n",
       "├─────────────────────┼───────────────────┼────────────┼───────────────────┤\n",
       "│ dense_43 (\u001b[38;5;33mDense\u001b[0m)    │ (\u001b[38;5;45mNone\u001b[0m, \u001b[38;5;34m28\u001b[0m)        │      \u001b[38;5;34m1,288\u001b[0m │ dense_42[\u001b[38;5;34m0\u001b[0m][\u001b[38;5;34m0\u001b[0m]    │\n",
       "├─────────────────────┼───────────────────┼────────────┼───────────────────┤\n",
       "│ dense_47 (\u001b[38;5;33mDense\u001b[0m)    │ (\u001b[38;5;45mNone\u001b[0m, \u001b[38;5;34m28\u001b[0m)        │      \u001b[38;5;34m1,372\u001b[0m │ dense_46[\u001b[38;5;34m0\u001b[0m][\u001b[38;5;34m0\u001b[0m]    │\n",
       "├─────────────────────┼───────────────────┼────────────┼───────────────────┤\n",
       "│ l2_normalization_12 │ (\u001b[38;5;45mNone\u001b[0m, \u001b[38;5;34m28\u001b[0m)        │          \u001b[38;5;34m0\u001b[0m │ dense_43[\u001b[38;5;34m0\u001b[0m][\u001b[38;5;34m0\u001b[0m]    │\n",
       "│ (\u001b[38;5;33mL2Normalization\u001b[0m)   │                   │            │                   │\n",
       "├─────────────────────┼───────────────────┼────────────┼───────────────────┤\n",
       "│ l2_normalization_13 │ (\u001b[38;5;45mNone\u001b[0m, \u001b[38;5;34m28\u001b[0m)        │          \u001b[38;5;34m0\u001b[0m │ dense_47[\u001b[38;5;34m0\u001b[0m][\u001b[38;5;34m0\u001b[0m]    │\n",
       "│ (\u001b[38;5;33mL2Normalization\u001b[0m)   │                   │            │                   │\n",
       "├─────────────────────┼───────────────────┼────────────┼───────────────────┤\n",
       "│ dot_6 (\u001b[38;5;33mDot\u001b[0m)         │ (\u001b[38;5;45mNone\u001b[0m, \u001b[38;5;34m1\u001b[0m)         │          \u001b[38;5;34m0\u001b[0m │ l2_normalization… │\n",
       "│                     │                   │            │ l2_normalization… │\n",
       "└─────────────────────┴───────────────────┴────────────┴───────────────────┘\n"
      ]
     },
     "metadata": {},
     "output_type": "display_data"
    },
    {
     "data": {
      "text/html": [
       "<pre style=\"white-space:pre;overflow-x:auto;line-height:normal;font-family:Menlo,'DejaVu Sans Mono',consolas,'Courier New',monospace\"><span style=\"font-weight: bold\"> Total params: </span><span style=\"color: #00af00; text-decoration-color: #00af00\">23,294</span> (91.00 KB)\n",
       "</pre>\n"
      ],
      "text/plain": [
       "\u001b[1m Total params: \u001b[0m\u001b[38;5;34m23,294\u001b[0m (91.00 KB)\n"
      ]
     },
     "metadata": {},
     "output_type": "display_data"
    },
    {
     "data": {
      "text/html": [
       "<pre style=\"white-space:pre;overflow-x:auto;line-height:normal;font-family:Menlo,'DejaVu Sans Mono',consolas,'Courier New',monospace\"><span style=\"font-weight: bold\"> Trainable params: </span><span style=\"color: #00af00; text-decoration-color: #00af00\">7,764</span> (30.33 KB)\n",
       "</pre>\n"
      ],
      "text/plain": [
       "\u001b[1m Trainable params: \u001b[0m\u001b[38;5;34m7,764\u001b[0m (30.33 KB)\n"
      ]
     },
     "metadata": {},
     "output_type": "display_data"
    },
    {
     "data": {
      "text/html": [
       "<pre style=\"white-space:pre;overflow-x:auto;line-height:normal;font-family:Menlo,'DejaVu Sans Mono',consolas,'Courier New',monospace\"><span style=\"font-weight: bold\"> Non-trainable params: </span><span style=\"color: #00af00; text-decoration-color: #00af00\">0</span> (0.00 B)\n",
       "</pre>\n"
      ],
      "text/plain": [
       "\u001b[1m Non-trainable params: \u001b[0m\u001b[38;5;34m0\u001b[0m (0.00 B)\n"
      ]
     },
     "metadata": {},
     "output_type": "display_data"
    },
    {
     "data": {
      "text/html": [
       "<pre style=\"white-space:pre;overflow-x:auto;line-height:normal;font-family:Menlo,'DejaVu Sans Mono',consolas,'Courier New',monospace\"><span style=\"font-weight: bold\"> Optimizer params: </span><span style=\"color: #00af00; text-decoration-color: #00af00\">15,530</span> (60.67 KB)\n",
       "</pre>\n"
      ],
      "text/plain": [
       "\u001b[1m Optimizer params: \u001b[0m\u001b[38;5;34m15,530\u001b[0m (60.67 KB)\n"
      ]
     },
     "metadata": {},
     "output_type": "display_data"
    }
   ],
   "source": [
    "model.summary()"
   ]
  },
  {
   "cell_type": "code",
   "execution_count": 76,
   "id": "6a9c7feb-b6fb-496d-81fb-cb56e493598e",
   "metadata": {},
   "outputs": [],
   "source": [
    "import keras\n",
    "@keras.saving.register_keras_serializable(package=\"MyLayers\")\n",
    "class L2Normalization(Layer):\n",
    "    def call(self, inputs):\n",
    "        return tf.linalg.l2_normalize(inputs, axis=1)\n"
   ]
  }
 ],
 "metadata": {
  "kernelspec": {
   "display_name": "Python 3 (ipykernel)",
   "language": "python",
   "name": "python3"
  },
  "language_info": {
   "codemirror_mode": {
    "name": "ipython",
    "version": 3
   },
   "file_extension": ".py",
   "mimetype": "text/x-python",
   "name": "python",
   "nbconvert_exporter": "python",
   "pygments_lexer": "ipython3",
   "version": "3.11.9"
  }
 },
 "nbformat": 4,
 "nbformat_minor": 5
}
